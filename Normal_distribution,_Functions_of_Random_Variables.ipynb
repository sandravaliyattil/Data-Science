{
  "nbformat": 4,
  "nbformat_minor": 0,
  "metadata": {
    "colab": {
      "provenance": []
    },
    "kernelspec": {
      "name": "python3",
      "display_name": "Python 3"
    },
    "language_info": {
      "name": "python"
    }
  },
  "cells": [
    {
      "cell_type": "markdown",
      "source": [
        "1.\tThe time required for servicing transmissions is normally distributed with mean = 45 minutes and std = 8 minutes. The service manager plans to have work begin on the transmission of a customer’s car 10 minutes after the car is dropped off and the customer is told that the car will be ready within 1 hour from drop-off. What is the probability that the service manager cannot meet his commitment?\n",
        "\n"
      ],
      "metadata": {
        "id": "mw2Gu4cAh7TK"
      }
    },
    {
      "cell_type": "code",
      "execution_count": null,
      "metadata": {
        "colab": {
          "base_uri": "https://localhost:8080/"
        },
        "id": "Nhw1MSc-gueH",
        "outputId": "b8691fb4-56f2-4ce9-9b14-3791b5f0e093"
      },
      "outputs": [
        {
          "output_type": "execute_result",
          "data": {
            "text/plain": [
              "0.26598552904870054"
            ]
          },
          "metadata": {},
          "execution_count": 5
        }
      ],
      "source": [
        "#mean=45min\n",
        "#std=8min\n",
        "#buffer time=10 min\n",
        "#commitment time=60 min\n",
        "#we have to find p(x>(60-10))=1-p(x<(60-10))\n",
        "from scipy import stats\n",
        "prob=1-stats.norm.cdf(50,loc=45,scale=8)\n",
        "prob"
      ]
    },
    {
      "cell_type": "markdown",
      "source": [
        "2.\tThe current age (in years) of 400 clerical employees at an insurance claims processing center is normally distributed with mean mean = 38 and Standard deviation std =6. For each statement below, please specify True/False. If false, briefly explain why.  \n",
        "*   More employees at the processing center are older than 44 than between 38\n",
        "and 44.\n",
        "*   A training program for employees under the age of 30 at the center would be expected to attract about 36 employees.\n",
        "\n"
      ],
      "metadata": {
        "id": "RVWGjYkJlH6D"
      }
    },
    {
      "cell_type": "markdown",
      "source": [
        " **More employees at the processing center are older than 44 than between 38\n",
        "and 44.**"
      ],
      "metadata": {
        "id": "ytJswSvbmWsZ"
      }
    },
    {
      "cell_type": "code",
      "source": [
        "#n=400\n",
        "#mean=38\n",
        "#std=6\n",
        "#we have to find p(x>44) and p(38<x<44) and compare the probability\n",
        "from scipy import stats\n",
        "prob_1=1-stats.norm.cdf(44,loc=38,scale=6)\n",
        "prob_1"
      ],
      "metadata": {
        "colab": {
          "base_uri": "https://localhost:8080/"
        },
        "id": "KNdedlLzlACK",
        "outputId": "4e8527ca-2668-49ad-ad5c-36091c5f98ed"
      },
      "execution_count": null,
      "outputs": [
        {
          "output_type": "execute_result",
          "data": {
            "text/plain": [
              "0.15865525393145707"
            ]
          },
          "metadata": {},
          "execution_count": 6
        }
      ]
    },
    {
      "cell_type": "code",
      "source": [
        "prob_2=stats.norm.cdf(44,loc=38,scale=6)-stats.norm.cdf(38,loc=38,scale=6)\n",
        "prob_2"
      ],
      "metadata": {
        "colab": {
          "base_uri": "https://localhost:8080/"
        },
        "id": "GoIWkss7nD8l",
        "outputId": "1d241c73-ffd6-43db-b744-2f11bc900b1f"
      },
      "execution_count": null,
      "outputs": [
        {
          "output_type": "execute_result",
          "data": {
            "text/plain": [
              "0.3413447460685429"
            ]
          },
          "metadata": {},
          "execution_count": 7
        }
      ]
    },
    {
      "cell_type": "markdown",
      "source": [
        "prob_2 is greater than prob_1. Which implies that the statement is **FALSE**"
      ],
      "metadata": {
        "id": "2Z5V_JI8nWgw"
      }
    },
    {
      "cell_type": "markdown",
      "source": [
        "**A training program for employees under the age of 30 at the center would be expected to attract about 36 employees.**"
      ],
      "metadata": {
        "id": "NSJPquYLnii8"
      }
    },
    {
      "cell_type": "code",
      "source": [
        "#we have to find p(x<=36)\n",
        "p=stats.norm.cdf(36,loc=38,scale=6)\n",
        "p"
      ],
      "metadata": {
        "colab": {
          "base_uri": "https://localhost:8080/"
        },
        "id": "UgJ4Z3u7noZK",
        "outputId": "bedb4e97-6a35-46db-aa48-5e43b0504ea7"
      },
      "execution_count": null,
      "outputs": [
        {
          "output_type": "execute_result",
          "data": {
            "text/plain": [
              "0.36944134018176367"
            ]
          },
          "metadata": {},
          "execution_count": 8
        }
      ]
    },
    {
      "cell_type": "markdown",
      "source": [
        "*here p=0.36944 which is less than 0.5. so it's unlikely that under the age of 30, the training programme would attract 36 employee.*"
      ],
      "metadata": {
        "id": "PdOeTywXqr3p"
      }
    },
    {
      "cell_type": "markdown",
      "source": [
        "4)\tLet X ~ N(100, 20^2). Find two values, a and b, symmetric about the mean, such that the probability of the random variable taking a value between them is 0.99.\n",
        "\n",
        "1.   90.5, 105.9\n",
        "2.   80.2, 119.8\n",
        "3.   22, 78\n",
        "4.   48.5, 151.5\n",
        "5.   90.1, 109.9  \n",
        "\n"
      ],
      "metadata": {
        "id": "lwauOwqa0pE3"
      }
    },
    {
      "cell_type": "code",
      "source": [
        "#mean=100\n",
        "#std=20\n",
        "from scipy import stats\n",
        "from scipy.stats import norm\n",
        "stats.norm.cdf(105.9,loc=100,scale=20)-stats.norm.cdf(90.5,loc=100,scale=20)"
      ],
      "metadata": {
        "colab": {
          "base_uri": "https://localhost:8080/"
        },
        "id": "7tGJ8Bn7rIBl",
        "outputId": "8b64acc5-75b6-4788-f352-e13188b339e2"
      },
      "execution_count": null,
      "outputs": [
        {
          "output_type": "execute_result",
          "data": {
            "text/plain": [
              "0.2986095735052065"
            ]
          },
          "metadata": {},
          "execution_count": 2
        }
      ]
    },
    {
      "cell_type": "code",
      "source": [
        "stats.norm.cdf(119.8,loc=100,scale=20)-stats.norm.cdf(80.2,loc=100,scale=20)"
      ],
      "metadata": {
        "colab": {
          "base_uri": "https://localhost:8080/"
        },
        "id": "rEM40G951EWW",
        "outputId": "faacd4b1-5ef7-4672-fc93-ebc9b48b42e7"
      },
      "execution_count": null,
      "outputs": [
        {
          "output_type": "execute_result",
          "data": {
            "text/plain": [
              "0.6778258809783382"
            ]
          },
          "metadata": {},
          "execution_count": 4
        }
      ]
    },
    {
      "cell_type": "code",
      "source": [
        "stats.norm.cdf(78,loc=100,scale=20)-stats.norm.cdf(22,loc=100,scale=20)"
      ],
      "metadata": {
        "colab": {
          "base_uri": "https://localhost:8080/"
        },
        "id": "Ixa3lrb9f9v8",
        "outputId": "6ac4f763-2bda-4657-c278-1cde217fd65b"
      },
      "execution_count": null,
      "outputs": [
        {
          "output_type": "execute_result",
          "data": {
            "text/plain": [
              "0.13561796460236508"
            ]
          },
          "metadata": {},
          "execution_count": 5
        }
      ]
    },
    {
      "cell_type": "code",
      "source": [
        "stats.norm.cdf(151.5,loc=100,scale=20)-stats.norm.cdf(48.5,loc=100,scale=20)"
      ],
      "metadata": {
        "colab": {
          "base_uri": "https://localhost:8080/"
        },
        "id": "QLILRCVRgCL4",
        "outputId": "b5922ffa-741d-4c49-fbe9-6908838cc566"
      },
      "execution_count": null,
      "outputs": [
        {
          "output_type": "execute_result",
          "data": {
            "text/plain": [
              "0.9899759913364774"
            ]
          },
          "metadata": {},
          "execution_count": 6
        }
      ]
    },
    {
      "cell_type": "code",
      "source": [
        "stats.norm.cdf(109.9,loc=100,scale=20)-stats.norm.cdf(90.1,loc=100,scale=20)"
      ],
      "metadata": {
        "colab": {
          "base_uri": "https://localhost:8080/"
        },
        "id": "q9ZUqcNagJPC",
        "outputId": "845c8d44-e62d-4341-b293-5d2f6317d8a6"
      },
      "execution_count": null,
      "outputs": [
        {
          "output_type": "execute_result",
          "data": {
            "text/plain": [
              "0.37939987949102466"
            ]
          },
          "metadata": {},
          "execution_count": 7
        }
      ]
    },
    {
      "cell_type": "markdown",
      "source": [
        "Answer: So, a=48.5 and b=151.5"
      ],
      "metadata": {
        "id": "_zXXgEXP4kXo"
      }
    },
    {
      "cell_type": "markdown",
      "source": [
        "5.)\tConsider a company that has two different divisions. The annual profits from the two divisions are independent and have distributions Profit1 ~ N (5, 32) and Profit2 ~ N (7, 42) respectively. Both the profits are in Dollar Million. Answer the following questions about the total profit of the company in Rupees. Assume that $1 = Rs. 45\n",
        "\n",
        "1.   Specify a Rupee range (centered on the mean) such that it contains 95% probability for the annual profit of the company.\n",
        "2.   Specify the 5th percentile of profit (in Rupees) for the company\n",
        "3.   Which of the two divisions has a larger probability of making a loss in a given year?\n"
      ],
      "metadata": {
        "id": "x_GaycVoh6Z4"
      }
    },
    {
      "cell_type": "markdown",
      "source": [
        "1)"
      ],
      "metadata": {
        "id": "DIInodS6ie5O"
      }
    },
    {
      "cell_type": "code",
      "source": [
        "from scipy import stats\n",
        "import numpy as np\n",
        "profit_1_mean=5*45\n",
        "profit_2_mean=7*45\n",
        "profit_1_std=np.sqrt(32*45)\n",
        "profit_2_std=np.sqrt(42*45)\n",
        "total_profit_mean=profit_1_mean+profit_2_mean\n",
        "total_profit_std=profit_1_std+profit_2_std"
      ],
      "metadata": {
        "id": "PaKUSbmngcPI"
      },
      "execution_count": null,
      "outputs": []
    },
    {
      "cell_type": "code",
      "source": [
        "confidance_interval=stats.norm.interval(0.95,loc=total_profit_mean,scale=total_profit_std)\n",
        "confidance_interval"
      ],
      "metadata": {
        "colab": {
          "base_uri": "https://localhost:8080/"
        },
        "id": "iKyLvVagjaCL",
        "outputId": "c225b117-c6c0-4034-dd07-3f5eab317326"
      },
      "execution_count": null,
      "outputs": [
        {
          "output_type": "execute_result",
          "data": {
            "text/plain": [
              "(380.416866596655, 699.5831334033451)"
            ]
          },
          "metadata": {},
          "execution_count": 9
        }
      ]
    },
    {
      "cell_type": "markdown",
      "source": [
        "2)"
      ],
      "metadata": {
        "id": "LV5Hg_G6j1ND"
      }
    },
    {
      "cell_type": "code",
      "source": [
        "#fifth percentile\n",
        "percentile_5=stats.norm.ppf(0.05,loc=total_profit_mean,scale=total_profit_std)\n",
        "percentile_5"
      ],
      "metadata": {
        "colab": {
          "base_uri": "https://localhost:8080/"
        },
        "id": "_BEOXtOVj2g4",
        "outputId": "dc4baddd-b265-4ece-87d3-24bcc62e4551"
      },
      "execution_count": null,
      "outputs": [
        {
          "output_type": "execute_result",
          "data": {
            "text/plain": [
              "406.0736126534633"
            ]
          },
          "metadata": {},
          "execution_count": 10
        }
      ]
    },
    {
      "cell_type": "markdown",
      "source": [
        "3) Here the mean of profit 1 and profit 2 are 5 and 7 in dollar million. And standard deviations are 5.66 and 6.48 approximately. So, it's clear that mean in larger for division 2 compared to division 1. Also, in division 1, standard deviation is larger than mean. But in division 2 , standard deviation is slightly smaller than mean. Therefore, Division 1 has a larger probability of making a loss in a given year because it has a lower mean profit and a higher standard deviation, indicating more variability and potential for negative outcomes."
      ],
      "metadata": {
        "id": "itLGBRxwkNau"
      }
    }
  ]
}
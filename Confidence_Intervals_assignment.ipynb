{
  "nbformat": 4,
  "nbformat_minor": 0,
  "metadata": {
    "colab": {
      "provenance": []
    },
    "kernelspec": {
      "name": "python3",
      "display_name": "Python 3"
    },
    "language_info": {
      "name": "python"
    }
  },
  "cells": [
    {
      "cell_type": "markdown",
      "source": [
        "5)\tIn January 2005, a company that monitors Internet traffic (WebSideStory) reported that its sampling revealed that the Mozilla Firefox browser launched in 2004 had grabbed a 4.6% share of the market."
      ],
      "metadata": {
        "id": "JkPKrC1BuSBO"
      }
    },
    {
      "cell_type": "markdown",
      "source": [
        "I)If the sample were based on 2,000 users, could Microsoft conclude that Mozilla has a less than 5% share of the market?"
      ],
      "metadata": {
        "id": "Ew31p7ZSuaQZ"
      }
    },
    {
      "cell_type": "code",
      "execution_count": null,
      "metadata": {
        "colab": {
          "base_uri": "https://localhost:8080/"
        },
        "id": "23C_No9MuDzP",
        "outputId": "e0622c47-4953-4ee2-dfe5-30cef29efe66"
      },
      "outputs": [
        {
          "output_type": "stream",
          "name": "stdout",
          "text": [
            "Mozilla has equal or greater 5% share of the market\n"
          ]
        }
      ],
      "source": [
        "import statsmodels.api as sm\n",
        "sample_size=2000\n",
        "p=0.046\n",
        "#H0:  Mozilla has equal or greater 5% share of the market\n",
        "#H1:  Mozilla has a less than 5% share of the market\n",
        "alpha=0.05\n",
        "count=p*sample_size\n",
        "result=sm.stats.proportions_ztest(count,sample_size,alpha,alternative='smaller')\n",
        "z_score,p_value=result\n",
        "if p_value<alpha:\n",
        "  print('Mozilla has a less than 5% share of the market')\n",
        "else:\n",
        "  print('Mozilla has equal or greater 5% share of the market')\n"
      ]
    },
    {
      "cell_type": "markdown",
      "source": [
        "II)WebSideStory claims that its sample includes all the daily Internet users. If that’s the case, then can Microsoft conclude that Mozilla has a less than 5% share of the market?"
      ],
      "metadata": {
        "id": "jHl2Ui-AuQph"
      }
    },
    {
      "cell_type": "markdown",
      "source": [
        "If the sample includes all the daily internet users, then it will not be sampling. It can be considered as census. So, in census the sampling proportion and population proportion are same. So, 4.6% is less than 5%.ie, Mozilla has a less than 5% share of the market."
      ],
      "metadata": {
        "id": "4K2GaM_bxKSC"
      }
    },
    {
      "cell_type": "code",
      "source": [],
      "metadata": {
        "id": "WqdVBBr4wuq4"
      },
      "execution_count": null,
      "outputs": []
    }
  ]
}
{
  "nbformat": 4,
  "nbformat_minor": 0,
  "metadata": {
    "colab": {
      "provenance": []
    },
    "kernelspec": {
      "name": "python3",
      "display_name": "Python 3"
    },
    "language_info": {
      "name": "python"
    }
  },
  "cells": [
    {
      "cell_type": "markdown",
      "source": [
        "3.\tAuditors at a small community bank randomly sample 100 withdrawal transactions made during the week at an ATM machine located near the bank’s main branch. Over the past 2 years, the average withdrawal amount has been 50 dollar with a standard deviation of 40 dollar. Since audit investigations are typically expensive, the auditors decide to not initiate further investigations if the mean transaction amount of the sample is between $45 and $55. What is the probability that in any given week, there will be an investigation?"
      ],
      "metadata": {
        "id": "Q8Bwb04k78TJ"
      }
    },
    {
      "cell_type": "code",
      "execution_count": null,
      "metadata": {
        "colab": {
          "base_uri": "https://localhost:8080/"
        },
        "id": "8TZ8IFES5C3-",
        "outputId": "0307f444-f626-48cf-883b-38729736b2da"
      },
      "outputs": [
        {
          "output_type": "execute_result",
          "data": {
            "text/plain": [
              "0.2112995473337107"
            ]
          },
          "metadata": {},
          "execution_count": 6
        }
      ],
      "source": [
        "n=100\n",
        "mu=50\n",
        "std=40\n",
        "#probability of not to investigate p(45<mu<55)\n",
        "from scipy import stats\n",
        "import numpy as np\n",
        "prob=stats.norm.cdf(55,loc=mu,scale=std/np.sqrt(100))-stats.norm.cdf(45,loc=mu,scale=std/np.sqrt(100))\n",
        "prob\n",
        "req_prob=1-prob\n",
        "req_prob"
      ]
    },
    {
      "cell_type": "markdown",
      "source": [
        "4.\tThe auditors from the above example would like to maintain the probability of investigation to 5%. Which of the following represents the minimum number transactions that they should sample if they do not want to change the thresholds of 45 and 55? Assume that the sample statistics remain unchanged."
      ],
      "metadata": {
        "id": "siCfFN9H8OvL"
      }
    },
    {
      "cell_type": "code",
      "source": [
        "import math\n",
        "alpha=0.05\n",
        "allowable_error=(55-45)/2\n",
        "z_score=stats.norm.ppf(1-alpha/2)\n",
        "min_n=math.ceil((z_score*std/allowable_error)**2)\n",
        "min_n\n"
      ],
      "metadata": {
        "colab": {
          "base_uri": "https://localhost:8080/"
        },
        "id": "kT6TKoaa_94Y",
        "outputId": "62dcaa29-aced-46ed-bab4-ef8c5893ad78"
      },
      "execution_count": null,
      "outputs": [
        {
          "output_type": "execute_result",
          "data": {
            "text/plain": [
              "246"
            ]
          },
          "metadata": {},
          "execution_count": 12
        }
      ]
    }
  ]
}
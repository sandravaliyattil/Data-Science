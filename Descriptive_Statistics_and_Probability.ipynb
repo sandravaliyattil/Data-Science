{
  "nbformat": 4,
  "nbformat_minor": 0,
  "metadata": {
    "colab": {
      "provenance": []
    },
    "kernelspec": {
      "name": "python3",
      "display_name": "Python 3"
    },
    "language_info": {
      "name": "python"
    }
  },
  "cells": [
    {
      "cell_type": "markdown",
      "source": [
        "#\t1)Look at the data given below. Plot the data, find the outliers and find out  μ,σ,σ^2"
      ],
      "metadata": {
        "id": "sVTVk41lXIw6"
      }
    },
    {
      "cell_type": "code",
      "execution_count": 3,
      "metadata": {
        "id": "7UzPO69oLTi_"
      },
      "outputs": [],
      "source": [
        "import pandas as pd\n",
        "import numpy as np"
      ]
    },
    {
      "cell_type": "code",
      "source": [
        "Df=pd.DataFrame(columns=['Name of the Company','Measure X'])\n",
        "Df"
      ],
      "metadata": {
        "colab": {
          "base_uri": "https://localhost:8080/",
          "height": 49
        },
        "id": "eM-EaFIEQI0D",
        "outputId": "8c346ed8-00ae-427a-980e-066775b06e2a"
      },
      "execution_count": null,
      "outputs": [
        {
          "output_type": "execute_result",
          "data": {
            "text/plain": [
              "Empty DataFrame\n",
              "Columns: [Name of the Company, Measure X]\n",
              "Index: []"
            ],
            "text/html": [
              "\n",
              "\n",
              "  <div id=\"df-ccf1f02e-365e-4c51-8f41-124f374e2814\">\n",
              "    <div class=\"colab-df-container\">\n",
              "      <div>\n",
              "<style scoped>\n",
              "    .dataframe tbody tr th:only-of-type {\n",
              "        vertical-align: middle;\n",
              "    }\n",
              "\n",
              "    .dataframe tbody tr th {\n",
              "        vertical-align: top;\n",
              "    }\n",
              "\n",
              "    .dataframe thead th {\n",
              "        text-align: right;\n",
              "    }\n",
              "</style>\n",
              "<table border=\"1\" class=\"dataframe\">\n",
              "  <thead>\n",
              "    <tr style=\"text-align: right;\">\n",
              "      <th></th>\n",
              "      <th>Name of the Company</th>\n",
              "      <th>Measure X</th>\n",
              "    </tr>\n",
              "  </thead>\n",
              "  <tbody>\n",
              "  </tbody>\n",
              "</table>\n",
              "</div>\n",
              "      <button class=\"colab-df-convert\" onclick=\"convertToInteractive('df-ccf1f02e-365e-4c51-8f41-124f374e2814')\"\n",
              "              title=\"Convert this dataframe to an interactive table.\"\n",
              "              style=\"display:none;\">\n",
              "\n",
              "  <svg xmlns=\"http://www.w3.org/2000/svg\" height=\"24px\"viewBox=\"0 0 24 24\"\n",
              "       width=\"24px\">\n",
              "    <path d=\"M0 0h24v24H0V0z\" fill=\"none\"/>\n",
              "    <path d=\"M18.56 5.44l.94 2.06.94-2.06 2.06-.94-2.06-.94-.94-2.06-.94 2.06-2.06.94zm-11 1L8.5 8.5l.94-2.06 2.06-.94-2.06-.94L8.5 2.5l-.94 2.06-2.06.94zm10 10l.94 2.06.94-2.06 2.06-.94-2.06-.94-.94-2.06-.94 2.06-2.06.94z\"/><path d=\"M17.41 7.96l-1.37-1.37c-.4-.4-.92-.59-1.43-.59-.52 0-1.04.2-1.43.59L10.3 9.45l-7.72 7.72c-.78.78-.78 2.05 0 2.83L4 21.41c.39.39.9.59 1.41.59.51 0 1.02-.2 1.41-.59l7.78-7.78 2.81-2.81c.8-.78.8-2.07 0-2.86zM5.41 20L4 18.59l7.72-7.72 1.47 1.35L5.41 20z\"/>\n",
              "  </svg>\n",
              "      </button>\n",
              "\n",
              "\n",
              "\n",
              "    <div id=\"df-2a571c18-549a-445a-a0db-0bb3c144911e\">\n",
              "      <button class=\"colab-df-quickchart\" onclick=\"quickchart('df-2a571c18-549a-445a-a0db-0bb3c144911e')\"\n",
              "              title=\"Suggest charts.\"\n",
              "              style=\"display:none;\">\n",
              "\n",
              "<svg xmlns=\"http://www.w3.org/2000/svg\" height=\"24px\"viewBox=\"0 0 24 24\"\n",
              "     width=\"24px\">\n",
              "    <g>\n",
              "        <path d=\"M19 3H5c-1.1 0-2 .9-2 2v14c0 1.1.9 2 2 2h14c1.1 0 2-.9 2-2V5c0-1.1-.9-2-2-2zM9 17H7v-7h2v7zm4 0h-2V7h2v10zm4 0h-2v-4h2v4z\"/>\n",
              "    </g>\n",
              "</svg>\n",
              "      </button>\n",
              "    </div>\n",
              "\n",
              "<style>\n",
              "  .colab-df-quickchart {\n",
              "    background-color: #E8F0FE;\n",
              "    border: none;\n",
              "    border-radius: 50%;\n",
              "    cursor: pointer;\n",
              "    display: none;\n",
              "    fill: #1967D2;\n",
              "    height: 32px;\n",
              "    padding: 0 0 0 0;\n",
              "    width: 32px;\n",
              "  }\n",
              "\n",
              "  .colab-df-quickchart:hover {\n",
              "    background-color: #E2EBFA;\n",
              "    box-shadow: 0px 1px 2px rgba(60, 64, 67, 0.3), 0px 1px 3px 1px rgba(60, 64, 67, 0.15);\n",
              "    fill: #174EA6;\n",
              "  }\n",
              "\n",
              "  [theme=dark] .colab-df-quickchart {\n",
              "    background-color: #3B4455;\n",
              "    fill: #D2E3FC;\n",
              "  }\n",
              "\n",
              "  [theme=dark] .colab-df-quickchart:hover {\n",
              "    background-color: #434B5C;\n",
              "    box-shadow: 0px 1px 3px 1px rgba(0, 0, 0, 0.15);\n",
              "    filter: drop-shadow(0px 1px 2px rgba(0, 0, 0, 0.3));\n",
              "    fill: #FFFFFF;\n",
              "  }\n",
              "</style>\n",
              "\n",
              "    <script>\n",
              "      async function quickchart(key) {\n",
              "        const containerElement = document.querySelector('#' + key);\n",
              "        const charts = await google.colab.kernel.invokeFunction(\n",
              "            'suggestCharts', [key], {});\n",
              "      }\n",
              "    </script>\n",
              "\n",
              "      <script>\n",
              "\n",
              "function displayQuickchartButton(domScope) {\n",
              "  let quickchartButtonEl =\n",
              "    domScope.querySelector('#df-2a571c18-549a-445a-a0db-0bb3c144911e button.colab-df-quickchart');\n",
              "  quickchartButtonEl.style.display =\n",
              "    google.colab.kernel.accessAllowed ? 'block' : 'none';\n",
              "}\n",
              "\n",
              "        displayQuickchartButton(document);\n",
              "      </script>\n",
              "      <style>\n",
              "    .colab-df-container {\n",
              "      display:flex;\n",
              "      flex-wrap:wrap;\n",
              "      gap: 12px;\n",
              "    }\n",
              "\n",
              "    .colab-df-convert {\n",
              "      background-color: #E8F0FE;\n",
              "      border: none;\n",
              "      border-radius: 50%;\n",
              "      cursor: pointer;\n",
              "      display: none;\n",
              "      fill: #1967D2;\n",
              "      height: 32px;\n",
              "      padding: 0 0 0 0;\n",
              "      width: 32px;\n",
              "    }\n",
              "\n",
              "    .colab-df-convert:hover {\n",
              "      background-color: #E2EBFA;\n",
              "      box-shadow: 0px 1px 2px rgba(60, 64, 67, 0.3), 0px 1px 3px 1px rgba(60, 64, 67, 0.15);\n",
              "      fill: #174EA6;\n",
              "    }\n",
              "\n",
              "    [theme=dark] .colab-df-convert {\n",
              "      background-color: #3B4455;\n",
              "      fill: #D2E3FC;\n",
              "    }\n",
              "\n",
              "    [theme=dark] .colab-df-convert:hover {\n",
              "      background-color: #434B5C;\n",
              "      box-shadow: 0px 1px 3px 1px rgba(0, 0, 0, 0.15);\n",
              "      filter: drop-shadow(0px 1px 2px rgba(0, 0, 0, 0.3));\n",
              "      fill: #FFFFFF;\n",
              "    }\n",
              "  </style>\n",
              "\n",
              "      <script>\n",
              "        const buttonEl =\n",
              "          document.querySelector('#df-ccf1f02e-365e-4c51-8f41-124f374e2814 button.colab-df-convert');\n",
              "        buttonEl.style.display =\n",
              "          google.colab.kernel.accessAllowed ? 'block' : 'none';\n",
              "\n",
              "        async function convertToInteractive(key) {\n",
              "          const element = document.querySelector('#df-ccf1f02e-365e-4c51-8f41-124f374e2814');\n",
              "          const dataTable =\n",
              "            await google.colab.kernel.invokeFunction('convertToInteractive',\n",
              "                                                     [key], {});\n",
              "          if (!dataTable) return;\n",
              "\n",
              "          const docLinkHtml = 'Like what you see? Visit the ' +\n",
              "            '<a target=\"_blank\" href=https://colab.research.google.com/notebooks/data_table.ipynb>data table notebook</a>'\n",
              "            + ' to learn more about interactive tables.';\n",
              "          element.innerHTML = '';\n",
              "          dataTable['output_type'] = 'display_data';\n",
              "          await google.colab.output.renderOutput(dataTable, element);\n",
              "          const docLink = document.createElement('div');\n",
              "          docLink.innerHTML = docLinkHtml;\n",
              "          element.appendChild(docLink);\n",
              "        }\n",
              "      </script>\n",
              "    </div>\n",
              "  </div>\n"
            ]
          },
          "metadata": {},
          "execution_count": 2
        }
      ]
    },
    {
      "cell_type": "code",
      "source": [
        "A=['Allied Signal','Bankers Trust','General Mills','ITT Industries','J.P.Morgan & Co.','Lehman Brothers','Marriott','MCI','Merrill Lynch','Microsoft','Morgan Stanley','Sun Microsystems','Travelers','US Airways','Warner-Lambert']\n",
        "B=[24.23,25.53,25.41,24.14,29.62,28.25,25.81,24.39,40.26,32.95,91.36,25.99,39.42,26.71,35]\n",
        "Df['Name of the Company']=A\n",
        "Df['Measure X']=B\n",
        "Df"
      ],
      "metadata": {
        "colab": {
          "base_uri": "https://localhost:8080/",
          "height": 786
        },
        "id": "SFFd-YsDQjcK",
        "outputId": "54866295-8a2e-4c61-dea2-a80b1b658d92"
      },
      "execution_count": null,
      "outputs": [
        {
          "output_type": "execute_result",
          "data": {
            "text/plain": [
              "   Name of the Company  Measure X\n",
              "0        Allied Signal      24.23\n",
              "1        Bankers Trust      25.53\n",
              "2        General Mills      25.41\n",
              "3       ITT Industries      24.14\n",
              "4     J.P.Morgan & Co.      29.62\n",
              "5      Lehman Brothers      28.25\n",
              "6             Marriott      25.81\n",
              "7                  MCI      24.39\n",
              "8        Merrill Lynch      40.26\n",
              "9            Microsoft      32.95\n",
              "10      Morgan Stanley      91.36\n",
              "11    Sun Microsystems      25.99\n",
              "12           Travelers      39.42\n",
              "13          US Airways      26.71\n",
              "14      Warner-Lambert      35.00"
            ],
            "text/html": [
              "\n",
              "\n",
              "  <div id=\"df-14190d6b-87c1-40c2-abb1-26d87144c3c0\">\n",
              "    <div class=\"colab-df-container\">\n",
              "      <div>\n",
              "<style scoped>\n",
              "    .dataframe tbody tr th:only-of-type {\n",
              "        vertical-align: middle;\n",
              "    }\n",
              "\n",
              "    .dataframe tbody tr th {\n",
              "        vertical-align: top;\n",
              "    }\n",
              "\n",
              "    .dataframe thead th {\n",
              "        text-align: right;\n",
              "    }\n",
              "</style>\n",
              "<table border=\"1\" class=\"dataframe\">\n",
              "  <thead>\n",
              "    <tr style=\"text-align: right;\">\n",
              "      <th></th>\n",
              "      <th>Name of the Company</th>\n",
              "      <th>Measure X</th>\n",
              "    </tr>\n",
              "  </thead>\n",
              "  <tbody>\n",
              "    <tr>\n",
              "      <th>0</th>\n",
              "      <td>Allied Signal</td>\n",
              "      <td>24.23</td>\n",
              "    </tr>\n",
              "    <tr>\n",
              "      <th>1</th>\n",
              "      <td>Bankers Trust</td>\n",
              "      <td>25.53</td>\n",
              "    </tr>\n",
              "    <tr>\n",
              "      <th>2</th>\n",
              "      <td>General Mills</td>\n",
              "      <td>25.41</td>\n",
              "    </tr>\n",
              "    <tr>\n",
              "      <th>3</th>\n",
              "      <td>ITT Industries</td>\n",
              "      <td>24.14</td>\n",
              "    </tr>\n",
              "    <tr>\n",
              "      <th>4</th>\n",
              "      <td>J.P.Morgan &amp; Co.</td>\n",
              "      <td>29.62</td>\n",
              "    </tr>\n",
              "    <tr>\n",
              "      <th>5</th>\n",
              "      <td>Lehman Brothers</td>\n",
              "      <td>28.25</td>\n",
              "    </tr>\n",
              "    <tr>\n",
              "      <th>6</th>\n",
              "      <td>Marriott</td>\n",
              "      <td>25.81</td>\n",
              "    </tr>\n",
              "    <tr>\n",
              "      <th>7</th>\n",
              "      <td>MCI</td>\n",
              "      <td>24.39</td>\n",
              "    </tr>\n",
              "    <tr>\n",
              "      <th>8</th>\n",
              "      <td>Merrill Lynch</td>\n",
              "      <td>40.26</td>\n",
              "    </tr>\n",
              "    <tr>\n",
              "      <th>9</th>\n",
              "      <td>Microsoft</td>\n",
              "      <td>32.95</td>\n",
              "    </tr>\n",
              "    <tr>\n",
              "      <th>10</th>\n",
              "      <td>Morgan Stanley</td>\n",
              "      <td>91.36</td>\n",
              "    </tr>\n",
              "    <tr>\n",
              "      <th>11</th>\n",
              "      <td>Sun Microsystems</td>\n",
              "      <td>25.99</td>\n",
              "    </tr>\n",
              "    <tr>\n",
              "      <th>12</th>\n",
              "      <td>Travelers</td>\n",
              "      <td>39.42</td>\n",
              "    </tr>\n",
              "    <tr>\n",
              "      <th>13</th>\n",
              "      <td>US Airways</td>\n",
              "      <td>26.71</td>\n",
              "    </tr>\n",
              "    <tr>\n",
              "      <th>14</th>\n",
              "      <td>Warner-Lambert</td>\n",
              "      <td>35.00</td>\n",
              "    </tr>\n",
              "  </tbody>\n",
              "</table>\n",
              "</div>\n",
              "      <button class=\"colab-df-convert\" onclick=\"convertToInteractive('df-14190d6b-87c1-40c2-abb1-26d87144c3c0')\"\n",
              "              title=\"Convert this dataframe to an interactive table.\"\n",
              "              style=\"display:none;\">\n",
              "\n",
              "  <svg xmlns=\"http://www.w3.org/2000/svg\" height=\"24px\"viewBox=\"0 0 24 24\"\n",
              "       width=\"24px\">\n",
              "    <path d=\"M0 0h24v24H0V0z\" fill=\"none\"/>\n",
              "    <path d=\"M18.56 5.44l.94 2.06.94-2.06 2.06-.94-2.06-.94-.94-2.06-.94 2.06-2.06.94zm-11 1L8.5 8.5l.94-2.06 2.06-.94-2.06-.94L8.5 2.5l-.94 2.06-2.06.94zm10 10l.94 2.06.94-2.06 2.06-.94-2.06-.94-.94-2.06-.94 2.06-2.06.94z\"/><path d=\"M17.41 7.96l-1.37-1.37c-.4-.4-.92-.59-1.43-.59-.52 0-1.04.2-1.43.59L10.3 9.45l-7.72 7.72c-.78.78-.78 2.05 0 2.83L4 21.41c.39.39.9.59 1.41.59.51 0 1.02-.2 1.41-.59l7.78-7.78 2.81-2.81c.8-.78.8-2.07 0-2.86zM5.41 20L4 18.59l7.72-7.72 1.47 1.35L5.41 20z\"/>\n",
              "  </svg>\n",
              "      </button>\n",
              "\n",
              "\n",
              "\n",
              "    <div id=\"df-80c71331-c632-4882-8744-1aadc6904427\">\n",
              "      <button class=\"colab-df-quickchart\" onclick=\"quickchart('df-80c71331-c632-4882-8744-1aadc6904427')\"\n",
              "              title=\"Suggest charts.\"\n",
              "              style=\"display:none;\">\n",
              "\n",
              "<svg xmlns=\"http://www.w3.org/2000/svg\" height=\"24px\"viewBox=\"0 0 24 24\"\n",
              "     width=\"24px\">\n",
              "    <g>\n",
              "        <path d=\"M19 3H5c-1.1 0-2 .9-2 2v14c0 1.1.9 2 2 2h14c1.1 0 2-.9 2-2V5c0-1.1-.9-2-2-2zM9 17H7v-7h2v7zm4 0h-2V7h2v10zm4 0h-2v-4h2v4z\"/>\n",
              "    </g>\n",
              "</svg>\n",
              "      </button>\n",
              "    </div>\n",
              "\n",
              "<style>\n",
              "  .colab-df-quickchart {\n",
              "    background-color: #E8F0FE;\n",
              "    border: none;\n",
              "    border-radius: 50%;\n",
              "    cursor: pointer;\n",
              "    display: none;\n",
              "    fill: #1967D2;\n",
              "    height: 32px;\n",
              "    padding: 0 0 0 0;\n",
              "    width: 32px;\n",
              "  }\n",
              "\n",
              "  .colab-df-quickchart:hover {\n",
              "    background-color: #E2EBFA;\n",
              "    box-shadow: 0px 1px 2px rgba(60, 64, 67, 0.3), 0px 1px 3px 1px rgba(60, 64, 67, 0.15);\n",
              "    fill: #174EA6;\n",
              "  }\n",
              "\n",
              "  [theme=dark] .colab-df-quickchart {\n",
              "    background-color: #3B4455;\n",
              "    fill: #D2E3FC;\n",
              "  }\n",
              "\n",
              "  [theme=dark] .colab-df-quickchart:hover {\n",
              "    background-color: #434B5C;\n",
              "    box-shadow: 0px 1px 3px 1px rgba(0, 0, 0, 0.15);\n",
              "    filter: drop-shadow(0px 1px 2px rgba(0, 0, 0, 0.3));\n",
              "    fill: #FFFFFF;\n",
              "  }\n",
              "</style>\n",
              "\n",
              "    <script>\n",
              "      async function quickchart(key) {\n",
              "        const containerElement = document.querySelector('#' + key);\n",
              "        const charts = await google.colab.kernel.invokeFunction(\n",
              "            'suggestCharts', [key], {});\n",
              "      }\n",
              "    </script>\n",
              "\n",
              "      <script>\n",
              "\n",
              "function displayQuickchartButton(domScope) {\n",
              "  let quickchartButtonEl =\n",
              "    domScope.querySelector('#df-80c71331-c632-4882-8744-1aadc6904427 button.colab-df-quickchart');\n",
              "  quickchartButtonEl.style.display =\n",
              "    google.colab.kernel.accessAllowed ? 'block' : 'none';\n",
              "}\n",
              "\n",
              "        displayQuickchartButton(document);\n",
              "      </script>\n",
              "      <style>\n",
              "    .colab-df-container {\n",
              "      display:flex;\n",
              "      flex-wrap:wrap;\n",
              "      gap: 12px;\n",
              "    }\n",
              "\n",
              "    .colab-df-convert {\n",
              "      background-color: #E8F0FE;\n",
              "      border: none;\n",
              "      border-radius: 50%;\n",
              "      cursor: pointer;\n",
              "      display: none;\n",
              "      fill: #1967D2;\n",
              "      height: 32px;\n",
              "      padding: 0 0 0 0;\n",
              "      width: 32px;\n",
              "    }\n",
              "\n",
              "    .colab-df-convert:hover {\n",
              "      background-color: #E2EBFA;\n",
              "      box-shadow: 0px 1px 2px rgba(60, 64, 67, 0.3), 0px 1px 3px 1px rgba(60, 64, 67, 0.15);\n",
              "      fill: #174EA6;\n",
              "    }\n",
              "\n",
              "    [theme=dark] .colab-df-convert {\n",
              "      background-color: #3B4455;\n",
              "      fill: #D2E3FC;\n",
              "    }\n",
              "\n",
              "    [theme=dark] .colab-df-convert:hover {\n",
              "      background-color: #434B5C;\n",
              "      box-shadow: 0px 1px 3px 1px rgba(0, 0, 0, 0.15);\n",
              "      filter: drop-shadow(0px 1px 2px rgba(0, 0, 0, 0.3));\n",
              "      fill: #FFFFFF;\n",
              "    }\n",
              "  </style>\n",
              "\n",
              "      <script>\n",
              "        const buttonEl =\n",
              "          document.querySelector('#df-14190d6b-87c1-40c2-abb1-26d87144c3c0 button.colab-df-convert');\n",
              "        buttonEl.style.display =\n",
              "          google.colab.kernel.accessAllowed ? 'block' : 'none';\n",
              "\n",
              "        async function convertToInteractive(key) {\n",
              "          const element = document.querySelector('#df-14190d6b-87c1-40c2-abb1-26d87144c3c0');\n",
              "          const dataTable =\n",
              "            await google.colab.kernel.invokeFunction('convertToInteractive',\n",
              "                                                     [key], {});\n",
              "          if (!dataTable) return;\n",
              "\n",
              "          const docLinkHtml = 'Like what you see? Visit the ' +\n",
              "            '<a target=\"_blank\" href=https://colab.research.google.com/notebooks/data_table.ipynb>data table notebook</a>'\n",
              "            + ' to learn more about interactive tables.';\n",
              "          element.innerHTML = '';\n",
              "          dataTable['output_type'] = 'display_data';\n",
              "          await google.colab.output.renderOutput(dataTable, element);\n",
              "          const docLink = document.createElement('div');\n",
              "          docLink.innerHTML = docLinkHtml;\n",
              "          element.appendChild(docLink);\n",
              "        }\n",
              "      </script>\n",
              "    </div>\n",
              "  </div>\n"
            ]
          },
          "metadata": {},
          "execution_count": 3
        },
        {
          "output_type": "display_data",
          "data": {
            "text/plain": [
              "<google.colab._quickchart_helpers.SectionTitle at 0x7d3347b67ca0>"
            ],
            "text/html": [
              "<h4 class=\"colab-quickchart-section-title\">Values</h4>\n",
              "<style>\n",
              "  .colab-quickchart-section-title {\n",
              "      clear: both;\n",
              "  }\n",
              "</style>"
            ]
          },
          "metadata": {}
        },
        {
          "output_type": "display_data",
          "data": {
            "text/plain": [
              "import numpy as np\n",
              "from google.colab import autoviz\n",
              "df_3818693554777370927 = autoviz.get_registered_df('df_3818693554777370927')\n",
              "\n",
              "def value_plot(df, y, sort_ascending=False, figsize=(2, 1)):\n",
              "  from matplotlib import pyplot as plt\n",
              "  if sort_ascending:\n",
              "    df = df.sort_values(y).reset_index(drop=True)\n",
              "  _, ax = plt.subplots(figsize=figsize)\n",
              "  df[y].plot(kind='line')\n",
              "  plt.title(y)\n",
              "  ax.spines[['top', 'right',]].set_visible(False)\n",
              "  plt.tight_layout()\n",
              "  return autoviz.MplChart.from_current_mpl_state()\n",
              "\n",
              "chart = value_plot(df_3818693554777370927, *['Measure X'], **{})\n",
              "chart"
            ],
            "text/html": [
              "      <div class=\"colab-quickchart-chart-with-code\" id=\"chart-df5ed45f-3615-4ebd-8ec9-eda0ea43facf\">\n",
              "        <img src=\"data:image/png;base64,iVBORw0KGgoAAAANSUhEUgAAAMQAAABgCAYAAABCK92TAAAAOXRFWHRTb2Z0d2FyZQBNYXRwbG90\n",
              "bGliIHZlcnNpb24zLjcuMSwgaHR0cHM6Ly9tYXRwbG90bGliLm9yZy/bCgiHAAAACXBIWXMAAA9h\n",
              "AAAPYQGoP6dpAAATzklEQVR4nO3deVRT174H8O+BQMKQhCEGkSmAgqIMVqFW2yfU9tah9fVae6vW\n",
              "AWvVVdtatX1ddnVR29uqXS1Pn69a5fpYsByKE7fW3mpvRRQHqJaqdWRGCFQIYwgJmff7IyQGGRPB\n",
              "hKz9WeusrJyzz+F3En5n73POPjsMIYSAoigAgJOtA6Aoe0ITgqLM0ISgKDM0ISjKDE0IijJDE4Ki\n",
              "zNCEoCgzNCEoygxNCIoyQxOCoszQhLBQYmIiGIZBWlpal/kymQxcLhcMw6CsrMxG0Q2NDz74AFFR\n",
              "UVAoFKZ5EokE/v7+2LVrlw0jG3w0IawQFRXVLSH279+PkJAQG0U0MGq12qr1tmzZAjc3N6xfvx4A\n",
              "QAjBsmXLkJCQgLfffnswQ7Q5mhBWeOmll1BfX4/Lly+b5u3evRurV6/uVvby5ctITEyEr68vQkJC\n",
              "kJKSAq1Wa1q+atUqiEQieHp6IjQ0FJs2bYJerzct37lzJ8LDw8HlcuHn54fk5GTTMoZhkJOTY3p/\n",
              "7969LjVUZmYmAgMDsWvXLohEIvj6+gIAamtrsWjRIgQEBEAoFGLhwoVoaGjodX9dXV2RlZWFgwcP\n",
              "Ijs7G9u2bcONGzeQnp5u+Ydn7whlkenTp5OPP/6YfPLJJyQ5OZkQQsiFCxdIcHAwKS8vJwBIaWkp\n",
              "IYSQoqIi4uHhQbKysohGoyH37t0jMTEx5IsvvjBtb+/evaSuro7o9XpSUFBAfHx8yJ49ewghhJSU\n",
              "lBA3Nzdy8+ZNQgghMpmM5OXlmdYFQE6fPm16X1lZ2eXvZ2RkEGdnZ7Jy5Uoik8mIXC4nSqWSREZG\n",
              "kvfff5+0t7cTmUxGFi9eTJ577rl+9z09PZ3w+XzC4XDImTNnHvGTtE80ISxkTAixWEy4XC5paWkh\n",
              "ixYtIp9//nm3f8h3332XLFiwoMv6Bw4cIOHh4b1uf+3atWTevHmEEEIqKioIh8Mhhw4dIlKptFvZ\n",
              "gSaEXC43lcnOziajRo0ier3eNK+mpoYAIGKxuM99Ly0tJS4uLmTs2LFEq9X2WXa4ok0mKwUGBiIp\n",
              "KQmpqan44YcfsGLFim5lSktL8f3338PLy8s0vfXWW6irqwNgaItv3rwZ48ePh7e3N7y8vJCWlgaJ\n",
              "RAIACA0NxaFDh5CRkYHg4GDEx8cjKyvLojiFQiHc3d27xFRfX2/6e15eXhg/fjzYbDaqq6t73Y5G\n",
              "o8GiRYuwcOFCdHR0YPPmzRbFMWzYOiOHG2MNQQghp06dIgzDkPnz5xNCuh+hk5OTyfLly3vd1nff\n",
              "fUcEAgEpLCw0HXHXrl1Lpk2b1q2sRqMhhw8fJgzDkOLiYkIIIZ6enuT48eOmMpcuXepWQwQEBHTZ\n",
              "TmZmJgkLC7N4vz/88EMSFRVFFAoFuXjxImGz2SQ/P9/i7dg7WkM8ghdeeAGnT5/G9u3be1y+Zs0a\n",
              "HDt2DEePHoVarYZOp0NZWRl+/vlnAIBUKgWLxYJQKATDMDh79iwOHDhgWr+4uBgnT55Ee3s7WCwW\n",
              "+Hw+AMDZ2RkAMHnyZGRmZkKpVKK+vh6fffZZvzHPmzcPGo0GKSkpkEqlAAyXUA8fPtzrOjk5Ofjm\n",
              "m2+QlZUFNzc3TJs2DRs3bsTrr7+Otra2gX1YwwRNiEfAMAxmzJiBwMDAHpfHx8fj9OnT2Lt3LwIC\n",
              "AuDr64v58+ejqqoKAJCcnIwZM2YgOjoaAoEAe/bsweLFi03rq9VqbN68GQEBAeDxeHj//fexb98+\n",
              "hIeHAwB27dqFuro6CAQCPP/881iyZEm/MXO5XBQUFKC6uhrR0dHg8XiYOnUqzp8/32P5xsZGLF26\n",
              "FFu3bkVMTIxpfkpKCkaNGoU1a9YM+PMaDhhC6DPVFGVEawiKMkMTgqLM0ISgKDM0ISjKDE0IijJD\n",
              "E4KizNCEoCgzdpMQO3bssHUIFGU/CWG8e0vZp9+rmjF16xmcvHnf1qEMKbtJCMq+peVV4E+pEnsv\n",
              "VNg6lCFFE4LqV7tKi3Mlhifqrotb0dSusnFEQ4cmBNWvs0USqLWGx1oJAc4V9/646XBHE4Lql/G8\n",
              "gctmAQByiyW2DGdIWZQQTU1NiIuLM00RERFgsVhobm5GYmIiQkNDTct6e0aAGl4Uai3OdibAhzMj\n",
              "AQDnixug0en7Wm3YYllS2NfXF9evXze9T01NRV5eHnx8fAAA27dvx8svvzyY8VE2draoAUqNHkE+\n",
              "blj0ZAj+J6cUTXI1Cu+14KlwX1uHN+geqcmUnp7e47PElOM4ecvQXJod7Q9nJwbTI0cAAHKL6m0Z\n",
              "1pCxOiHy8/PR0tKCF1980TRv48aNiI6OxmuvvYaKit4vz6lUKrS1tXWZdDqdtaFQQ6RDrcPZIkNz\n",
              "afYEfwDAjLF+AIDcIsc8j7A6IdLT07F06VKwWIZW1/79+1FUVIQbN27gmWee6ZIoD9u6dSv4fH6X\n",
              "6cqVK9aGQg2RvBIJFGodArzcEBNoeJ77mQgBWE4MyhvkqGqS2zjCwWdVQrS3t+PIkSN44403TPOC\n",
              "goIAGJ4zfuedd1BRUYGmpqYe1//oo48glUq7TAkJCdaEQg2hkzcNw+XMjh4JhmEAADyOCyaLvAE4\n",
              "Zi1hVUIcPnwYsbGxGDt2LABAq9Wivv5BmzI7Oxt+fn6moRMfxmazwePxukzGkSQo+6DU6HDmruE7\n",
              "nRXt32WZIzebLLrKZJSeno6VK1ea3qtUKsyZMwcqlQpOTk4QCAQ4ceLEoAVJPX7nSxogV+swis/B\n",
              "xCCvLsuSxgqx+eRdXK5ohlylhQfbqn8ju2TVnuTn53d57+HhgcLCwkEJiLIPp24ZmkszJ/ibmktG\n",
              "4SM8EOLrjqomBS6WNeKF8SNtEeKQoHeqqW5UWh1y7hiaS3Niuv+zMwyDpEghACD3rmM1m2hCUN1c\n",
              "LG2ETKWFH4+NiUHePZaZMc6QEGeLJXCkob1oQlDdGK8uzZrgDycnpscyCaE+cHd1hkSmwu0/HWc4\n",
              "S5oQVBdqrR6n7xgvt/r3Wo7NcsbTowUAgDMO1GyyOCFEIhEiIyNNnfiMg+SWlpZi6tSpiIiIQHx8\n",
              "PG7fvj3owVJD71J5I9qUWozgsjEppOfmkpGx2eRIvV+tusp0+PBhxMXFdZm3evVqrFq1CsnJyTh2\n",
              "7BiSk5Px22+/DUaM1GN0qrOr96wJI+HcS3PJyHhi/Ye4FQ0yFUZw2UMe31AblCaTRCJBYWGhaeTq\n",
              "V155BWKx2OF+jdPRaXR6/NJ5dWnWhN6bS0ZCHgfRAYYuHeccpJawKiGWLl2K6OhorFixAg0NDRCL\n",
              "xfD39zf1a2IYBsHBwb3+Ig3t3GefCsqb0KrQQODpioRQnwGtkzT2wdUmR2BxQpw/fx43btzA1atX\n",
              "IRAIsGzZMov/KO3cZ5+MT8a9ML7/5pLRs50Jcb6k0fSY6XBmcUIEBwcDAFxcXLBu3TpcuHABQUFB\n",
              "uH//vunnZgkhqK6uNpV9GO3cZ3+0Oj3+fbv/q0sPiwngQ+DpinaVFoX3mocqvMfGooSQy+VobW01\n",
              "vc/KysLEiRMhFArxxBNPmH4OKjs7G4GBgRg9enSP26Gd++zP5cpmtCg08PFwxZMDbC4BgJMTg8TO\n",
              "k+szDtDZz6KEqK+vR1JSEmJiYhAdHY28vDzs27cPAJCWloa0tDRERETgyy+/REZGxpAETA2Nn0zN\n",
              "JT+wnC1rOMwwnkc4QEJYdNk1LCwM165d63FZZGQkCgoKBiUo6tHVSZXYcvIufDxcMX9SICZ0Xg3q\n",
              "iU5P8O9bD+5OW+rpMQK4ODOoaJSjslGOUIFHv+tIFRoU1bUhXuTT691wW3CcfruUyXVxK1btK4RE\n",
              "ZhhQLDP/Hsb58/DqpEC8PDEAPh6uXcpfqWxGk1wNL3cXqwYO4HJcEC/yQX55E3KLJFjxdGif5XOL\n",
              "6vHhsZtobFchIdQHX70SA9EAkuhxoF03HMwP12vxt7QCSGQqjBF6Yk6MP1ydnXD3fhv+/q87eHJL\n",
              "Dt468Dtyi+qh7RxKxnh16S9RfnCxsLlk9OwAmk0KtRYff38Tb2QWorFz9L8rlc2YueM8/u9CBXR6\n",
              "6zsJanR63KqVWr2+Ea0hHIReT/D1L8XYfa4cAPDcOCG2vxYHLscFrQo1TvzxJ44UinGrtg2nbtXh\n",
              "1K06CLls/PWJANOzDw8/GWeJZ8cK8cVPd3G5sgntKi08H3po6Fp1CzYc+QOVjYbnsN98OhQLEoKx\n",
              "6cQtXCprwhc/3cXJm/fx1fxYjBZ6DvjvNsvVyLpSjQO/VkHaoUHBRzPAd3Oxej9oQjiAdpUW6w5d\n",
              "Q05nJ7u3EsPxwV8iTfcSvNxdsfQpEZY+JcLd+204WliD49drIZGpkJZnGB2Fx2FhWrjA6hjCRngi\n",
              "VOCBykY5LpY2YGbnuYhGp8fO3DLsPFsGnZ7An8/Bf78ai6mdHQMPrHgSWVfE2HLyLq5Wt2L2/17A\n",
              "hucj8ObToX2e3N/5sw2Z+ZU4fv1P0/0PgacryiTt/fbB6otFCaFUKrFgwQLcuXMHbm5uEAqF2L17\n",
              "N0aPHo3ExERUVVWBzzecvC1btgzr16+3OrDhoKZFgfIGObgcFrzcXODt7gqem8uAb2oNhuomBd7c\n",
              "9xtK6tvhynLCV6/E4OWJAb2WH+fPwycvRWHjrLHILarH0cIa5JU0YNlUEVxZj9aCTooUorKxEmfu\n",
              "SjBzgj8qGtqx/sgf+EPcCgD4z7hR+PvcCeC7PziCMwyDRU8GY3rkCHz0z5s4X9KAL08V4dTN+/j6\n",
              "1VhE+HFNZbU6PXLu1iPj0j1crnxwzyM6gI/l00SYE+MPNuvRLt9b9MPtSqUSubm5mDVrFhiGwc6d\n",
              "O3Hs2DGcO3cOiYmJWLdundUj923YsAHbtm2zat3HRaXV4UplM84VN+BcsQTlDT0Pw8LjsODl7gov\n",
              "dxfwOxPFx8MVgd5uCPJxN73yONZX7YChq8Wag7+jRaGBkMvGP5ZORtxDzz8PBCGk22Oi1rhY2ojF\n",
              "6Zch8GTjvefGYMtPd9Gh0YHHYeGLv0ZjbuyofuM4+nsNPv/XHciUWrg6O2HtjNF4LT4Y2VdrsL+g\n",
              "CrWtHQAAZycGsyaMxPJpoXgi2GtQ4gcsrCE4HA5mz55tej9lyhSkpqYOSiDW0OsJZCotpAoN2pQa\n",
              "EAIwjGFyYpgHrzAciZwYwwfpyWaB5+YyoBPI6iYFzpVIcK64AQXlTejQPOhz5ezEIHyEBxRqHaQK\n",
              "DWQqw536NqUWbUotqvu5ccvjsB4kiLfhdSTfDd7uLvBydzW99nTkPvBrFT49cRtaPUFMIB//WDIZ\n",
              "I/kciz4/o8H6Z0oI9YGHqzMa21VIOX4LADBttC9SX42FP99tQHH8bXIQ/mPMCHz8/U2cKZIg9ZcS\n",
              "pP5SYirj4+GKRQnBeH1K8IC2aSmLaoiHLVmyBD4+PtixYwcSExNRV1cHFxcXREVFYevWrQgLC+tx\n",
              "PZVKBZWq628MpKSkdPtZrTKJDP+8Wgtph6bb1KrQQKbU4BEuTMDD1Rk8N8NR3PhqnDQ6PS6WNqKi\n",
              "sWstIOSykRg5AtMjhHh6jKDLCZxGp0dbhwYtCg2kHWq0KgxxtnZoIJEpUdPcgZoWBcQtHWiWqy2K\n",
              "08vdFd4ehtqGEOBiWSMA4KXYUfh6fgw4LvZxp/+tA7/j1K06uLKcsHHmWCRPFVl1n4EQguPXa/Hp\n",
              "iTuQdmgwzp+H5dNEmBs7akj31eqE2LJlC3788UecOXMG7u7uEIvFCAoKAiEEu3btwrfffos7d+70\n",
              "uO6nn36Kzz77rMu8KVOmdLuxd7ZYguUZ/T9TwXFxAo9jaLvrCQEh6EwUAj0xfLjGV52eQK4eeM9a\n",
              "ZycGk0K8kRg5AokRQozz5w7KEVWu0qKmxZAgNS0dEDcrIG5RoEGmQqtCgxaFGq0dhlqvN//1QiTW\n",
              "JIYP2hF+MJQ3tOPAr1VYmBDcpf1vrRa5Gn9KOxDlz3ss+2lVQqSmpuLQoUPIycmBl5dXj2U4HA5q\n",
              "a2t7HKxsoDXEvUY5MvPvdTly891cTG1z45Hd0iOGVqeHTKntseaRdmjQ1qGBRkcQL/LGtDGCR27r\n",
              "W0uvJ2hTGmqcFoUarQo1WuSGGicuyOuRrqZQPbM4IbZt24aDBw8iJycH3t6GL0Sr1aKpqQl+foYR\n",
              "3bKzs7FhwwaLfkhx3rx5EIlE3ebrdDpcuXIFCQkJw7YDoCPsAzC89yMkJATvvfdev+UsSoiamhoE\n",
              "BQUhLCwMXK6hOmSz2cjNzcX06dO7jNy3bds2xMbGWr8Hndra2sDn8yGVSsHj8R55e7bgCPsAOM5+\n",
              "9MWiq0yBgYG9jsFDR+6jHAHty0RRZmhCUJQZu08INpuNTZs2gc0evkOcOMI+AI6zH315pBtzFOVo\n",
              "7L6GoKjHiSYERZmhCUFRZuw6IRxhAOXeBoe2d2vXroVIJALDMLh+/bppviN8J30idiwpKYlkZGQQ\n",
              "Qgg5evQomTx5sm0DskJISAi5du2arcOwWF5eHhGLxd3id4TvpC92mxD19fWEy+USjUZDCCFEr9cT\n",
              "Pz8/UlpaauPILDNcE8LIPH5H+U76YrdNJksHULZnDw8OPVw50nfSG7tNCEcxGINDU4+P3Y66YT6A\n",
              "MovF6ncAZXv18ODQERERNo7Ieo7ynfTFbmsISwdQtke9DQ49XDnCd9IvW5/E9KWoqIhMmTKFjBkz\n",
              "hkyaNIncuHHD1iFZpLy8nMTFxZHo6GgyYcIEMnfuXFJZWWnrsAZk1apVJCAggDg7OxOhUEjCw8MJ\n",
              "IcP/O+kP7ctEUWbstslEUbZAE4KizNCEoCgzNCEoygxNCIoyQxOCoszQhKAoMzQhKMoMTQiKMkMT\n",
              "gqLM0ISgKDP/D8qxLoYEU0rKAAAAAElFTkSuQmCC\n",
              "\">\n",
              "        \n",
              "      </div>\n",
              "      <script></script>\n",
              "      <script type=\"text/javascript\">\n",
              "        (() => {\n",
              "          const chartElement = document.getElementById(\"chart-df5ed45f-3615-4ebd-8ec9-eda0ea43facf\");\n",
              "          async function getCodeForChartHandler(event) {\n",
              "            const chartCodeResponse =  await google.colab.kernel.invokeFunction(\n",
              "                'getCodeForChart', [\"chart-df5ed45f-3615-4ebd-8ec9-eda0ea43facf\"], {});\n",
              "            const responseJson = chartCodeResponse.data['application/json'];\n",
              "            await google.colab.notebook.addCell(responseJson.code, 'code');\n",
              "          }\n",
              "          chartElement.onclick = getCodeForChartHandler;\n",
              "        })();\n",
              "      </script>\n",
              "      <style>\n",
              "        .colab-quickchart-chart-with-code  {\n",
              "            display: block;\n",
              "            float: left;\n",
              "            border: 1px solid transparent;\n",
              "        }\n",
              "\n",
              "        .colab-quickchart-chart-with-code:hover {\n",
              "            cursor: pointer;\n",
              "            border: 1px solid #aaa;\n",
              "        }\n",
              "      </style>"
            ]
          },
          "metadata": {}
        },
        {
          "output_type": "display_data",
          "data": {
            "text/plain": [
              "<google.colab._quickchart_helpers.SectionTitle at 0x7d334598cb50>"
            ],
            "text/html": [
              "<h4 class=\"colab-quickchart-section-title\">Distributions</h4>\n",
              "<style>\n",
              "  .colab-quickchart-section-title {\n",
              "      clear: both;\n",
              "  }\n",
              "</style>"
            ]
          },
          "metadata": {}
        },
        {
          "output_type": "display_data",
          "data": {
            "text/plain": [
              "import numpy as np\n",
              "from google.colab import autoviz\n",
              "df_2757264419682541231 = autoviz.get_registered_df('df_2757264419682541231')\n",
              "\n",
              "def histogram(df, colname, num_bins=20, figsize=(2, 1)):\n",
              "  from matplotlib import pyplot as plt\n",
              "  _, ax = plt.subplots(figsize=figsize)\n",
              "  plt.hist(df[colname], bins=num_bins, histtype='stepfilled')\n",
              "  plt.ylabel('count')\n",
              "  plt.title(colname)\n",
              "  ax.spines[['top', 'right',]].set_visible(False)\n",
              "  plt.tight_layout()\n",
              "  return autoviz.MplChart.from_current_mpl_state()\n",
              "\n",
              "chart = histogram(df_2757264419682541231, *['Measure X'], **{})\n",
              "chart"
            ],
            "text/html": [
              "      <div class=\"colab-quickchart-chart-with-code\" id=\"chart-b8f18ff0-5b6a-4ac1-990c-d0a671db4e52\">\n",
              "        <img src=\"data:image/png;base64,iVBORw0KGgoAAAANSUhEUgAAAMQAAABgCAYAAABCK92TAAAAOXRFWHRTb2Z0d2FyZQBNYXRwbG90\n",
              "bGliIHZlcnNpb24zLjcuMSwgaHR0cHM6Ly9tYXRwbG90bGliLm9yZy/bCgiHAAAACXBIWXMAAA9h\n",
              "AAAPYQGoP6dpAAANd0lEQVR4nO3da0wUZ9sH8P8gdKWwnAU5hDOFcIqKUIGkYChp45M2LZhYEWVN\n",
              "U0ytimJraiylVoGmaazVkkqMASmKVA72Q23zAm0EBUXSKvaAXVAOFhdKa5YzLOz1fiDMu/sAynLa\n",
              "xff6JRvZe++ZvRj3z8w9MzsjEBGBMQYAMNJ3AYwZEg4EYxo4EIxp4EAwpoEDwZgGDgRjGjgQjGng\n",
              "QDCmgQPBmAYOBGMaOBCzFB0dDUEQkJOTo9Xe29sLqVQKQRDQ1NSkp+oWxrvvvgt/f38MDAyIbV1d\n",
              "XXB0dER2drYeK5s/HIg58Pf3nxSIr7/+Gm5ubnqqaGZGRkZmNV1mZiZMTU2xb98+AAARISkpCWFh\n",
              "YXjnnXfms0S94UDMwSuvvILOzk7cuHFDbPvqq6+wY8eOSX1v3LiB6Oho2Nraws3NDWlpaRgdHRVf\n",
              "T05Ohru7O8zNzeHh4YH09HSo1Wrx9S+//BJeXl6QSqVwcHCATCYTXxMEARUVFeLzlpYWrTVUXl4e\n",
              "XFxckJ2dDXd3d9ja2gIA/vrrLyQkJMDZ2Rn29vbYvHkz/v7772l/32eeeQaFhYU4d+4cSkpKcOzY\n",
              "MTQ0NODMmTO6LzxDRWxWoqKi6NChQ/Thhx+STCYjIqLq6mpydXWl5uZmAkByuZyIiBobG8nMzIwK\n",
              "CwtJpVJRS0sLBQcH09GjR8X5nT59mhQKBanVaqqtrSUbGxs6deoUERH9+eefZGpqSnfu3CEiot7e\n",
              "Xrpy5Yo4LQAqLy8Xn9+/f1/r/XNzc2nZsmX01ltvUW9vL/X399PQ0BD5+vrS/v37qa+vj3p7eykx\n",
              "MZFefPHFJ/7uZ86cIUtLS1q+fDlVVlbOcUkaFg7ELE0Eor29naRSKT169IgSEhLoyJEjkz6Qu3fv\n",
              "pjfeeENr+oKCAvLy8pp2/nv27KG4uDgiIrp37x4tX76cLly4QEqlclLfmQaiv79f7FNSUkJOTk6k\n",
              "VqvFtgcPHhAAam9vf+zvLpfLycTEhPz8/Gh0dPSxfZca3mSaIxcXF6xfvx6fffYZvv32W7z55puT\n",
              "+sjlcpSVlcHKykp8vP3221AoFADGt8UzMjIQEBAAa2trWFlZIScnB11dXQAADw8PXLhwAbm5uXB1\n",
              "dUVoaCgKCwt1qtPe3h7PPvusVk2dnZ3i+1lZWSEgIAASiQRtbW3TzkelUiEhIQGbN2/G4OAgMjIy\n",
              "dKrD4Ok7kUvVxBqCiOj7778nQRBo48aNRDT5L7RMJqPt27dPO6/z58+TnZ0d1dfXi39x9+zZQ5GR\n",
              "kZP6qlQqKioqIkEQ6O7du0REZG5uTpcuXRL7XLt2bdIawtnZWWs+eXl55OnpqfPvfeDAAfL396eB\n",
              "gQG6evUqSSQSqqmp0Xk+horXEPPgpZdeQnl5OT7//PMpX9+5cyeKi4tx8eJFjIyMYGxsDE1NTfjh\n",
              "hx8AAEqlEsbGxrC3t4cgCPjpp59QUFAgTn/37l1cvnwZfX19MDY2hqWlJQBg2bJlAIC1a9ciLy8P\n",
              "Q0ND6OzsxOHDh59Yc1xcHFQqFdLS0qBUKgGM70ItKiqadpqKigqcPHkShYWFMDU1RWRkJN5//31s\n",
              "2bIFPT09M1tYBo4DMQ8EQUBMTAxcXFymfD00NBTl5eU4ffo0nJ2dYWtri40bN6K1tRUAIJPJEBMT\n",
              "g6CgINjZ2eHUqVNITEwUpx8ZGUFGRgacnZ1hYWGB/fv3Iz8/H15eXgCA7OxsKBQK2NnZITY2Flu3\n",
              "bn1izVKpFLW1tWhra0NQUBAsLCwQERGBqqqqKft3d3dj27ZtyMrKQnBwsNielpYGJycn7Ny5c8bL\n",
              "y5AJRPydasYm8BqCMQ0cCMY0cCAY08CBYEwDB4IxDRwIxjRwIBjTYLCB+OKLL/RdAvt/yGADMXEU\n",
              "l7HFZKzvAmbD/f3vpn2t5ZP/LGIl7GljsGsIxvSBA8GYBp0D0dDQMKM2xpYinQOh+eX2x7UxthTN\n",
              "eFDd1dUFhUKBwcFB3LlzBxNnjSuVSvT39y9YgYwtphkHorCwEMePH0dHRwdeffVVsd3S0hIHDhxY\n",
              "kOIYW2wzDkRKSgpSUlJw5MgRpKWlLWRNjOmNzsch0tLSoFaroVAotC605erqOq+FMaYPOgfi7Nmz\n",
              "2L17N0xMTGBkND4mFwRBvGQKY0uZzoH4+OOPcfPmTfj6+j6xr7u7OyQSCUxNTQEABw8exKZNm3Sv\n",
              "krFFonMg7OzsZhSGCUVFRVi1apWub8OYXuh8HOK1117D8ePH0dXVhZ6eHvHB2NNA5zXEoUOHAACp\n",
              "qakQBAFEBEEQMDY2NmX/bdu2gYgQFhaGTz75BCtWrJjUZ3h4GMPDw1pt082PsYWk8xpCrVaLj7Gx\n",
              "MfHfqVRVVaGhoQE///wz7OzskJSUNGW/rKwsWFpaaj3q6up0LY2xOVvQk/smdsWamJhg7969qK6u\n",
              "nrLfwYMHoVQqtR5hYWELWRpjU9J5k8nIyAiCIExq/++1RH9/P1QqFaysrACMH+levXr1lPOUSCSQ\n",
              "SCRabRPXLWVsMekciN7eXvHnwcFB5OfnT7nJ1NnZifj4eIyNjYGI4Onpifz8/LlVy9gC0zkQZmZm\n",
              "Wj+npqbi+eefx3vvvafVz9PTE7/88svcK2RsEc15DNHY2Iju7u75qIUxvdN5DWFtbS2OISbOZTp5\n",
              "8uT8VsWYnugciFu3bv3fxMbGWLlyJQ+A2VND50C4ublhYGBADIa1tbXWvcsYW8p0DkRNTQ3i4+Ox\n",
              "cuVKAON7k0pKShAeHj7vxTG22HQORGpqKoqLixEZGQlgPCD79u3D9evX5704xhabznuZBgcHxTAA\n",
              "QEREBIaGhua1KMb0RedAmJubo6KiQnxeWVmpdWyCsaVM502mEydOIC4uTtyzpFarUVpaOu+FzdZ0\n",
              "l7mc7SUu53t+zLDpHIiOjg7U19ejs7MTAODg4MBnprKnhs6bTGlpaVixYgUCAwMRGBgIOzs7vgoH\n",
              "e2rM+dSNx305iLGlRudASKVS1NTUiM+vXbsGqVQ6r0Uxpi86jyE+/fRTvP766/Dz8wMAyOVylJWV\n",
              "TdlXLpcjKSkJ3d3dsLS0RF5eHgICAuZW8Sw97p4SbGlZyB0dOgciPDwcf/zxB2prawGMH4eY+BLQ\n",
              "f9uxYweSk5Mhk8lQXFwMmUyGmzdvzqlgxhbSrMYQ1tbW2LBhAzZs2DBtGLq6ulBfX4/ExEQAQHx8\n",
              "PNrb29HU1DTrYhlbaAt2S6329nY4OjrC2Hj8LQRBgKurK9ra2uDt7a3Vl6+6wQyFQdxjLisrC4cP\n",
              "H9Zq8/PzQ2pq6pT94xajqGmMjY2hrq4OKSn/Y5CnvU/UFxYW9tTWN93/f2pq5bTTuLm5ISUl5Ynz\n",
              "FmjiRg/zrKurC97e3vj3339hbGwMIoKjoyOuXr06ozXEVBceMAQ9PT2wtLSEUqmEhYWFvsuZhOub\n",
              "mwW7DI29vT3WrFmDgoICAEBJSQlcXFwmhQEY//BbWFhoPQwxDOzpt6CbTDk5OZDJZMjMzISFhQVy\n",
              "c3MX8u0Ym7MFDYSvr6+4e5axpYBvy6sjiUSC9PR0g92k4/rmZsEG1YwtRbyGYEwDB4IxDRwIxjRw\n",
              "IGYgNzcXgiDg0qVLAMYPOr788svw8fFBYGAgqqqq9FLX8PAwdu3aBR8fHwQFBYnnjcnlckREROC5\n",
              "555DaGgofvvtN73Ud/nyZaxZswarVq1CYGAgzp49C8Bwlt+UiD3W/fv3KTw8nNatW0dlZWVERLR9\n",
              "+3ZKT08nIqK6ujpydnamkZGRRa9t7969tGvXLlKr1URE9PDhQyIiWr9+PeXm5hIR0cWLF2nt2rWL\n",
              "XptarSZra2u6ffs2EY0vR4lEQj09PQaz/KbCgXiMsbExiomJofr6eoqKihIDYWZmJn74iIhCQ0Op\n",
              "vLx8UWvr6+sjqVRKSqVSq72zs5OkUimpVCoiGv9gOjg4kFwuX9T61Go12djY0JUrV4iI6Pbt2+Tk\n",
              "5ETDw8MGsfymYxAn9xmqY8eOITIyEiEhIWLbP//8A5VKJV65EBi//XBbW9ui1tbc3AwbGxtkZmai\n",
              "oqICpqam+Oijj2BlZTXjs4wXkiAIKCoqQlxcHMzMzPDo0SOUlpait7fXIJbfdHgMMY1ff/0VJSUl\n",
              "+OCDD/RdypRGR0fR2toKf39/1NfX48SJE9i0aZN4RXZ9Gx0dxdGjR1FaWorW1lZUVlZi69atBlPf\n",
              "dDgQ06iurkZLSwt8fHzg7u6O69evIzk5Gd988w2MjY2hUCjEvi0tLeL99BaLq6srjIyMsGXLFgDA\n",
              "6tWr4eHhgdbWVjx8+FD84BER2traFr2+W7duoaOjAy+88AIAIDQ0FC4uLmhoaDCI5TctfW+zLRWa\n",
              "Y4ikpCStQaGTk5NeBoWxsbH03XffERHRvXv3yNbWlh48eEBRUVFag+qQkJBFr02hUJC5uTn9/vvv\n",
              "REQkl8vJ2tqaWltbDWb5TYUDMUOagVAoFBQbG0ve3t7k7+9PP/74o15qam5upujoaAoMDKTg4GAq\n",
              "Li4mIqLGxkZat24d+fj4UEhICDU0NOilvvPnz4u1BQYG0rlz54jIcJbfVPhcJsY08BiCMQ0cCMY0\n",
              "cCAY08CBYEwDB4IxDRwIxjRwIBjTwIFgTAMHgjENHAjGNHAgGNPwvwQ7il5dQJG4AAAAAElFTkSu\n",
              "QmCC\n",
              "\">\n",
              "        \n",
              "      </div>\n",
              "      <script></script>\n",
              "      <script type=\"text/javascript\">\n",
              "        (() => {\n",
              "          const chartElement = document.getElementById(\"chart-b8f18ff0-5b6a-4ac1-990c-d0a671db4e52\");\n",
              "          async function getCodeForChartHandler(event) {\n",
              "            const chartCodeResponse =  await google.colab.kernel.invokeFunction(\n",
              "                'getCodeForChart', [\"chart-b8f18ff0-5b6a-4ac1-990c-d0a671db4e52\"], {});\n",
              "            const responseJson = chartCodeResponse.data['application/json'];\n",
              "            await google.colab.notebook.addCell(responseJson.code, 'code');\n",
              "          }\n",
              "          chartElement.onclick = getCodeForChartHandler;\n",
              "        })();\n",
              "      </script>\n",
              "      <style>\n",
              "        .colab-quickchart-chart-with-code  {\n",
              "            display: block;\n",
              "            float: left;\n",
              "            border: 1px solid transparent;\n",
              "        }\n",
              "\n",
              "        .colab-quickchart-chart-with-code:hover {\n",
              "            cursor: pointer;\n",
              "            border: 1px solid #aaa;\n",
              "        }\n",
              "      </style>"
            ]
          },
          "metadata": {}
        }
      ]
    },
    {
      "cell_type": "code",
      "source": [
        "import matplotlib.pyplot as plt\n",
        "plt.plot(Df['Name of the Company'],Df['Measure X'])\n",
        "plt.xlabel('Name of the Company')\n",
        "plt.ylabel('Measure X')\n",
        "plt.show()"
      ],
      "metadata": {
        "colab": {
          "base_uri": "https://localhost:8080/",
          "height": 449
        },
        "id": "a1ItWSMJSJh0",
        "outputId": "5f4f2e01-9841-4435-84e6-c5ed6d69a884"
      },
      "execution_count": null,
      "outputs": [
        {
          "output_type": "display_data",
          "data": {
            "text/plain": [
              "<Figure size 640x480 with 1 Axes>"
            ],
            "image/png": "[encoded data removed]"
          },
          "metadata": {}
        }
      ]
    },
    {
      "cell_type": "code",
      "source": [
        "Q1=Df['Measure X'].quantile(0.25)\n",
        "Q3=Df['Measure X'].quantile(0.75)\n",
        "IQR=Q3-Q1\n",
        "IQR"
      ],
      "metadata": {
        "colab": {
          "base_uri": "https://localhost:8080/"
        },
        "id": "SFMO9RSaTvWb",
        "outputId": "54fee67e-8343-4ac4-ce96-c5653cdbe48e"
      },
      "execution_count": null,
      "outputs": [
        {
          "output_type": "execute_result",
          "data": {
            "text/plain": [
              "8.505000000000003"
            ]
          },
          "metadata": {},
          "execution_count": 5
        }
      ]
    },
    {
      "cell_type": "code",
      "source": [
        "lower_bound=Q1-(1.5*IQR)\n",
        "upper_bound=Q3+(1.5*IQR)\n",
        "print('lower bound:',lower_bound)\n",
        "print('upper bound:',upper_bound)"
      ],
      "metadata": {
        "colab": {
          "base_uri": "https://localhost:8080/"
        },
        "id": "GywnEZXHUE-5",
        "outputId": "2feaaf32-d346-49a9-e1bb-4ae2573a990a"
      },
      "execution_count": null,
      "outputs": [
        {
          "output_type": "stream",
          "name": "stdout",
          "text": [
            "lower bound: 12.712499999999995\n",
            "upper bound: 46.7325\n"
          ]
        }
      ]
    },
    {
      "cell_type": "code",
      "source": [
        "Outliers=Df[(Df['Measure X']<lower_bound) | (Df['Measure X']>upper_bound)]\n",
        "Outliers"
      ],
      "metadata": {
        "colab": {
          "base_uri": "https://localhost:8080/",
          "height": 81
        },
        "id": "HS9-yn46VR1f",
        "outputId": "935fc799-c061-4831-c297-959f22b43e75"
      },
      "execution_count": null,
      "outputs": [
        {
          "output_type": "execute_result",
          "data": {
            "text/plain": [
              "   Name of the Company  Measure X\n",
              "10      Morgan Stanley      91.36"
            ],
            "text/html": [
              "\n",
              "\n",
              "  <div id=\"df-b3ddd701-d480-47fd-b636-ece0ed909881\">\n",
              "    <div class=\"colab-df-container\">\n",
              "      <div>\n",
              "<style scoped>\n",
              "    .dataframe tbody tr th:only-of-type {\n",
              "        vertical-align: middle;\n",
              "    }\n",
              "\n",
              "    .dataframe tbody tr th {\n",
              "        vertical-align: top;\n",
              "    }\n",
              "\n",
              "    .dataframe thead th {\n",
              "        text-align: right;\n",
              "    }\n",
              "</style>\n",
              "<table border=\"1\" class=\"dataframe\">\n",
              "  <thead>\n",
              "    <tr style=\"text-align: right;\">\n",
              "      <th></th>\n",
              "      <th>Name of the Company</th>\n",
              "      <th>Measure X</th>\n",
              "    </tr>\n",
              "  </thead>\n",
              "  <tbody>\n",
              "    <tr>\n",
              "      <th>10</th>\n",
              "      <td>Morgan Stanley</td>\n",
              "      <td>91.36</td>\n",
              "    </tr>\n",
              "  </tbody>\n",
              "</table>\n",
              "</div>\n",
              "      <button class=\"colab-df-convert\" onclick=\"convertToInteractive('df-b3ddd701-d480-47fd-b636-ece0ed909881')\"\n",
              "              title=\"Convert this dataframe to an interactive table.\"\n",
              "              style=\"display:none;\">\n",
              "\n",
              "  <svg xmlns=\"http://www.w3.org/2000/svg\" height=\"24px\"viewBox=\"0 0 24 24\"\n",
              "       width=\"24px\">\n",
              "    <path d=\"M0 0h24v24H0V0z\" fill=\"none\"/>\n",
              "    <path d=\"M18.56 5.44l.94 2.06.94-2.06 2.06-.94-2.06-.94-.94-2.06-.94 2.06-2.06.94zm-11 1L8.5 8.5l.94-2.06 2.06-.94-2.06-.94L8.5 2.5l-.94 2.06-2.06.94zm10 10l.94 2.06.94-2.06 2.06-.94-2.06-.94-.94-2.06-.94 2.06-2.06.94z\"/><path d=\"M17.41 7.96l-1.37-1.37c-.4-.4-.92-.59-1.43-.59-.52 0-1.04.2-1.43.59L10.3 9.45l-7.72 7.72c-.78.78-.78 2.05 0 2.83L4 21.41c.39.39.9.59 1.41.59.51 0 1.02-.2 1.41-.59l7.78-7.78 2.81-2.81c.8-.78.8-2.07 0-2.86zM5.41 20L4 18.59l7.72-7.72 1.47 1.35L5.41 20z\"/>\n",
              "  </svg>\n",
              "      </button>\n",
              "\n",
              "\n",
              "\n",
              "    <div id=\"df-b3c1e47e-fa73-486e-8a68-70b778de2cdc\">\n",
              "      <button class=\"colab-df-quickchart\" onclick=\"quickchart('df-b3c1e47e-fa73-486e-8a68-70b778de2cdc')\"\n",
              "              title=\"Suggest charts.\"\n",
              "              style=\"display:none;\">\n",
              "\n",
              "<svg xmlns=\"http://www.w3.org/2000/svg\" height=\"24px\"viewBox=\"0 0 24 24\"\n",
              "     width=\"24px\">\n",
              "    <g>\n",
              "        <path d=\"M19 3H5c-1.1 0-2 .9-2 2v14c0 1.1.9 2 2 2h14c1.1 0 2-.9 2-2V5c0-1.1-.9-2-2-2zM9 17H7v-7h2v7zm4 0h-2V7h2v10zm4 0h-2v-4h2v4z\"/>\n",
              "    </g>\n",
              "</svg>\n",
              "      </button>\n",
              "    </div>\n",
              "\n",
              "<style>\n",
              "  .colab-df-quickchart {\n",
              "    background-color: #E8F0FE;\n",
              "    border: none;\n",
              "    border-radius: 50%;\n",
              "    cursor: pointer;\n",
              "    display: none;\n",
              "    fill: #1967D2;\n",
              "    height: 32px;\n",
              "    padding: 0 0 0 0;\n",
              "    width: 32px;\n",
              "  }\n",
              "\n",
              "  .colab-df-quickchart:hover {\n",
              "    background-color: #E2EBFA;\n",
              "    box-shadow: 0px 1px 2px rgba(60, 64, 67, 0.3), 0px 1px 3px 1px rgba(60, 64, 67, 0.15);\n",
              "    fill: #174EA6;\n",
              "  }\n",
              "\n",
              "  [theme=dark] .colab-df-quickchart {\n",
              "    background-color: #3B4455;\n",
              "    fill: #D2E3FC;\n",
              "  }\n",
              "\n",
              "  [theme=dark] .colab-df-quickchart:hover {\n",
              "    background-color: #434B5C;\n",
              "    box-shadow: 0px 1px 3px 1px rgba(0, 0, 0, 0.15);\n",
              "    filter: drop-shadow(0px 1px 2px rgba(0, 0, 0, 0.3));\n",
              "    fill: #FFFFFF;\n",
              "  }\n",
              "</style>\n",
              "\n",
              "    <script>\n",
              "      async function quickchart(key) {\n",
              "        const containerElement = document.querySelector('#' + key);\n",
              "        const charts = await google.colab.kernel.invokeFunction(\n",
              "            'suggestCharts', [key], {});\n",
              "      }\n",
              "    </script>\n",
              "\n",
              "      <script>\n",
              "\n",
              "function displayQuickchartButton(domScope) {\n",
              "  let quickchartButtonEl =\n",
              "    domScope.querySelector('#df-b3c1e47e-fa73-486e-8a68-70b778de2cdc button.colab-df-quickchart');\n",
              "  quickchartButtonEl.style.display =\n",
              "    google.colab.kernel.accessAllowed ? 'block' : 'none';\n",
              "}\n",
              "\n",
              "        displayQuickchartButton(document);\n",
              "      </script>\n",
              "      <style>\n",
              "    .colab-df-container {\n",
              "      display:flex;\n",
              "      flex-wrap:wrap;\n",
              "      gap: 12px;\n",
              "    }\n",
              "\n",
              "    .colab-df-convert {\n",
              "      background-color: #E8F0FE;\n",
              "      border: none;\n",
              "      border-radius: 50%;\n",
              "      cursor: pointer;\n",
              "      display: none;\n",
              "      fill: #1967D2;\n",
              "      height: 32px;\n",
              "      padding: 0 0 0 0;\n",
              "      width: 32px;\n",
              "    }\n",
              "\n",
              "    .colab-df-convert:hover {\n",
              "      background-color: #E2EBFA;\n",
              "      box-shadow: 0px 1px 2px rgba(60, 64, 67, 0.3), 0px 1px 3px 1px rgba(60, 64, 67, 0.15);\n",
              "      fill: #174EA6;\n",
              "    }\n",
              "\n",
              "    [theme=dark] .colab-df-convert {\n",
              "      background-color: #3B4455;\n",
              "      fill: #D2E3FC;\n",
              "    }\n",
              "\n",
              "    [theme=dark] .colab-df-convert:hover {\n",
              "      background-color: #434B5C;\n",
              "      box-shadow: 0px 1px 3px 1px rgba(0, 0, 0, 0.15);\n",
              "      filter: drop-shadow(0px 1px 2px rgba(0, 0, 0, 0.3));\n",
              "      fill: #FFFFFF;\n",
              "    }\n",
              "  </style>\n",
              "\n",
              "      <script>\n",
              "        const buttonEl =\n",
              "          document.querySelector('#df-b3ddd701-d480-47fd-b636-ece0ed909881 button.colab-df-convert');\n",
              "        buttonEl.style.display =\n",
              "          google.colab.kernel.accessAllowed ? 'block' : 'none';\n",
              "\n",
              "        async function convertToInteractive(key) {\n",
              "          const element = document.querySelector('#df-b3ddd701-d480-47fd-b636-ece0ed909881');\n",
              "          const dataTable =\n",
              "            await google.colab.kernel.invokeFunction('convertToInteractive',\n",
              "                                                     [key], {});\n",
              "          if (!dataTable) return;\n",
              "\n",
              "          const docLinkHtml = 'Like what you see? Visit the ' +\n",
              "            '<a target=\"_blank\" href=https://colab.research.google.com/notebooks/data_table.ipynb>data table notebook</a>'\n",
              "            + ' to learn more about interactive tables.';\n",
              "          element.innerHTML = '';\n",
              "          dataTable['output_type'] = 'display_data';\n",
              "          await google.colab.output.renderOutput(dataTable, element);\n",
              "          const docLink = document.createElement('div');\n",
              "          docLink.innerHTML = docLinkHtml;\n",
              "          element.appendChild(docLink);\n",
              "        }\n",
              "      </script>\n",
              "    </div>\n",
              "  </div>\n"
            ]
          },
          "metadata": {},
          "execution_count": 13
        }
      ]
    },
    {
      "cell_type": "markdown",
      "source": [
        "Outliers are present. It's of the Company Morgan Stantely with measure 91.36%"
      ],
      "metadata": {
        "id": "U8K62OG8W7ly"
      }
    },
    {
      "cell_type": "code",
      "source": [
        "Mean=np.mean(Df['Measure X'])\n",
        "Mean"
      ],
      "metadata": {
        "colab": {
          "base_uri": "https://localhost:8080/"
        },
        "id": "SsbxVy_kXam-",
        "outputId": "ed7cadd6-6daa-4666-a005-5fdb37d7eb35"
      },
      "execution_count": null,
      "outputs": [
        {
          "output_type": "execute_result",
          "data": {
            "text/plain": [
              "33.27133333333333"
            ]
          },
          "metadata": {},
          "execution_count": 14
        }
      ]
    },
    {
      "cell_type": "code",
      "source": [
        "Variance=np.var(Df['Measure X'])\n",
        "Variance"
      ],
      "metadata": {
        "colab": {
          "base_uri": "https://localhost:8080/"
        },
        "id": "Jn7O1bitXhrX",
        "outputId": "494bf878-98ad-4fda-e63f-07502a344a2d"
      },
      "execution_count": null,
      "outputs": [
        {
          "output_type": "execute_result",
          "data": {
            "text/plain": [
              "268.00350488888887"
            ]
          },
          "metadata": {},
          "execution_count": 15
        }
      ]
    },
    {
      "cell_type": "code",
      "source": [
        "Std=np.std(Df['Measure X'])\n",
        "Std"
      ],
      "metadata": {
        "colab": {
          "base_uri": "https://localhost:8080/"
        },
        "id": "JvEVsEiPXqae",
        "outputId": "f3eb0e27-d384-42c9-d162-0d00d368ce06"
      },
      "execution_count": null,
      "outputs": [
        {
          "output_type": "execute_result",
          "data": {
            "text/plain": [
              "16.370812590976932"
            ]
          },
          "metadata": {},
          "execution_count": 16
        }
      ]
    },
    {
      "cell_type": "markdown",
      "source": [
        "**4)4.\tAT&T was running commercials in 1990 aimed at luring back customers who had switched to one of the other long-distance phone service providers. One such commercial shows a businessman trying to reach Phoenix and mistakenly getting Fiji, where a half-naked native on a beach responds incomprehensibly in Polynesian. When asked about this advertisement, AT&T admitted that the portrayed incident did not actually take place but added that this was an enactment of something that “could happen.” Suppose that one in 200 long-distance telephone calls is misdirected. What is the probability that at least one in five attempted telephone calls reaches the wrong number? (Assume independence of attempts.)**"
      ],
      "metadata": {
        "id": "BUTlqDisYGiz"
      }
    },
    {
      "cell_type": "code",
      "source": [
        "#p=the probability of long distance call being misdirected\n",
        "p=1/200\n",
        "#we have to find that at least one in five attempted telephone calls reaches the wrong number\n",
        "n=5\n",
        "#p(no attempted phone call in 5 attempts reaches the wrong number)=(1-p)^5\n",
        "#atleast one out of 5 attempts reaches the wrong number is (1-(1-p)^5)\n",
        "from scipy.stats import binom\n",
        "print('the probability that at least one in five attempted telephone calls reaches the wrong number:',1-binom.pmf(0,n,p))"
      ],
      "metadata": {
        "colab": {
          "base_uri": "https://localhost:8080/"
        },
        "id": "WCu2WhLPeTC0",
        "outputId": "a9d41cd4-94cc-4691-c3d1-54c160d518d4"
      },
      "execution_count": 1,
      "outputs": [
        {
          "output_type": "stream",
          "name": "stdout",
          "text": [
            "the probability that at least one in five attempted telephone calls reaches the wrong number: 0.02475124687812502\n"
          ]
        }
      ]
    },
    {
      "cell_type": "markdown",
      "source": [
        "**5)\tReturns on a certain business venture, to the nearest $1,000, are known to follow the following probability distribution**"
      ],
      "metadata": {
        "id": "pav5-Se3i_Gj"
      }
    },
    {
      "cell_type": "code",
      "source": [
        "Data=pd.DataFrame(columns=['x','p(x)'])\n",
        "Data['x']=[-2000,-1000,0,1000,2000,3000]\n",
        "Data['p(x)']=[0.1,0.1,0.2,0.2,0.3,0.1]\n",
        "Data"
      ],
      "metadata": {
        "colab": {
          "base_uri": "https://localhost:8080/",
          "height": 238
        },
        "id": "0dEAmEbdhaRo",
        "outputId": "6b4e14b5-f51e-4055-c5c0-7a34611b507b"
      },
      "execution_count": 4,
      "outputs": [
        {
          "output_type": "execute_result",
          "data": {
            "text/plain": [
              "      x  p(x)\n",
              "0 -2000   0.1\n",
              "1 -1000   0.1\n",
              "2     0   0.2\n",
              "3  1000   0.2\n",
              "4  2000   0.3\n",
              "5  3000   0.1"
            ],
            "text/html": [
              "\n",
              "\n",
              "  <div id=\"df-9932b876-2edf-4d54-84b1-e963996fae38\">\n",
              "    <div class=\"colab-df-container\">\n",
              "      <div>\n",
              "<style scoped>\n",
              "    .dataframe tbody tr th:only-of-type {\n",
              "        vertical-align: middle;\n",
              "    }\n",
              "\n",
              "    .dataframe tbody tr th {\n",
              "        vertical-align: top;\n",
              "    }\n",
              "\n",
              "    .dataframe thead th {\n",
              "        text-align: right;\n",
              "    }\n",
              "</style>\n",
              "<table border=\"1\" class=\"dataframe\">\n",
              "  <thead>\n",
              "    <tr style=\"text-align: right;\">\n",
              "      <th></th>\n",
              "      <th>x</th>\n",
              "      <th>p(x)</th>\n",
              "    </tr>\n",
              "  </thead>\n",
              "  <tbody>\n",
              "    <tr>\n",
              "      <th>0</th>\n",
              "      <td>-2000</td>\n",
              "      <td>0.1</td>\n",
              "    </tr>\n",
              "    <tr>\n",
              "      <th>1</th>\n",
              "      <td>-1000</td>\n",
              "      <td>0.1</td>\n",
              "    </tr>\n",
              "    <tr>\n",
              "      <th>2</th>\n",
              "      <td>0</td>\n",
              "      <td>0.2</td>\n",
              "    </tr>\n",
              "    <tr>\n",
              "      <th>3</th>\n",
              "      <td>1000</td>\n",
              "      <td>0.2</td>\n",
              "    </tr>\n",
              "    <tr>\n",
              "      <th>4</th>\n",
              "      <td>2000</td>\n",
              "      <td>0.3</td>\n",
              "    </tr>\n",
              "    <tr>\n",
              "      <th>5</th>\n",
              "      <td>3000</td>\n",
              "      <td>0.1</td>\n",
              "    </tr>\n",
              "  </tbody>\n",
              "</table>\n",
              "</div>\n",
              "      <button class=\"colab-df-convert\" onclick=\"convertToInteractive('df-9932b876-2edf-4d54-84b1-e963996fae38')\"\n",
              "              title=\"Convert this dataframe to an interactive table.\"\n",
              "              style=\"display:none;\">\n",
              "\n",
              "  <svg xmlns=\"http://www.w3.org/2000/svg\" height=\"24px\"viewBox=\"0 0 24 24\"\n",
              "       width=\"24px\">\n",
              "    <path d=\"M0 0h24v24H0V0z\" fill=\"none\"/>\n",
              "    <path d=\"M18.56 5.44l.94 2.06.94-2.06 2.06-.94-2.06-.94-.94-2.06-.94 2.06-2.06.94zm-11 1L8.5 8.5l.94-2.06 2.06-.94-2.06-.94L8.5 2.5l-.94 2.06-2.06.94zm10 10l.94 2.06.94-2.06 2.06-.94-2.06-.94-.94-2.06-.94 2.06-2.06.94z\"/><path d=\"M17.41 7.96l-1.37-1.37c-.4-.4-.92-.59-1.43-.59-.52 0-1.04.2-1.43.59L10.3 9.45l-7.72 7.72c-.78.78-.78 2.05 0 2.83L4 21.41c.39.39.9.59 1.41.59.51 0 1.02-.2 1.41-.59l7.78-7.78 2.81-2.81c.8-.78.8-2.07 0-2.86zM5.41 20L4 18.59l7.72-7.72 1.47 1.35L5.41 20z\"/>\n",
              "  </svg>\n",
              "      </button>\n",
              "\n",
              "\n",
              "\n",
              "    <div id=\"df-9e040bd5-7aa8-4be3-9043-761a666cec2a\">\n",
              "      <button class=\"colab-df-quickchart\" onclick=\"quickchart('df-9e040bd5-7aa8-4be3-9043-761a666cec2a')\"\n",
              "              title=\"Suggest charts.\"\n",
              "              style=\"display:none;\">\n",
              "\n",
              "<svg xmlns=\"http://www.w3.org/2000/svg\" height=\"24px\"viewBox=\"0 0 24 24\"\n",
              "     width=\"24px\">\n",
              "    <g>\n",
              "        <path d=\"M19 3H5c-1.1 0-2 .9-2 2v14c0 1.1.9 2 2 2h14c1.1 0 2-.9 2-2V5c0-1.1-.9-2-2-2zM9 17H7v-7h2v7zm4 0h-2V7h2v10zm4 0h-2v-4h2v4z\"/>\n",
              "    </g>\n",
              "</svg>\n",
              "      </button>\n",
              "    </div>\n",
              "\n",
              "<style>\n",
              "  .colab-df-quickchart {\n",
              "    background-color: #E8F0FE;\n",
              "    border: none;\n",
              "    border-radius: 50%;\n",
              "    cursor: pointer;\n",
              "    display: none;\n",
              "    fill: #1967D2;\n",
              "    height: 32px;\n",
              "    padding: 0 0 0 0;\n",
              "    width: 32px;\n",
              "  }\n",
              "\n",
              "  .colab-df-quickchart:hover {\n",
              "    background-color: #E2EBFA;\n",
              "    box-shadow: 0px 1px 2px rgba(60, 64, 67, 0.3), 0px 1px 3px 1px rgba(60, 64, 67, 0.15);\n",
              "    fill: #174EA6;\n",
              "  }\n",
              "\n",
              "  [theme=dark] .colab-df-quickchart {\n",
              "    background-color: #3B4455;\n",
              "    fill: #D2E3FC;\n",
              "  }\n",
              "\n",
              "  [theme=dark] .colab-df-quickchart:hover {\n",
              "    background-color: #434B5C;\n",
              "    box-shadow: 0px 1px 3px 1px rgba(0, 0, 0, 0.15);\n",
              "    filter: drop-shadow(0px 1px 2px rgba(0, 0, 0, 0.3));\n",
              "    fill: #FFFFFF;\n",
              "  }\n",
              "</style>\n",
              "\n",
              "    <script>\n",
              "      async function quickchart(key) {\n",
              "        const containerElement = document.querySelector('#' + key);\n",
              "        const charts = await google.colab.kernel.invokeFunction(\n",
              "            'suggestCharts', [key], {});\n",
              "      }\n",
              "    </script>\n",
              "\n",
              "      <script>\n",
              "\n",
              "function displayQuickchartButton(domScope) {\n",
              "  let quickchartButtonEl =\n",
              "    domScope.querySelector('#df-9e040bd5-7aa8-4be3-9043-761a666cec2a button.colab-df-quickchart');\n",
              "  quickchartButtonEl.style.display =\n",
              "    google.colab.kernel.accessAllowed ? 'block' : 'none';\n",
              "}\n",
              "\n",
              "        displayQuickchartButton(document);\n",
              "      </script>\n",
              "      <style>\n",
              "    .colab-df-container {\n",
              "      display:flex;\n",
              "      flex-wrap:wrap;\n",
              "      gap: 12px;\n",
              "    }\n",
              "\n",
              "    .colab-df-convert {\n",
              "      background-color: #E8F0FE;\n",
              "      border: none;\n",
              "      border-radius: 50%;\n",
              "      cursor: pointer;\n",
              "      display: none;\n",
              "      fill: #1967D2;\n",
              "      height: 32px;\n",
              "      padding: 0 0 0 0;\n",
              "      width: 32px;\n",
              "    }\n",
              "\n",
              "    .colab-df-convert:hover {\n",
              "      background-color: #E2EBFA;\n",
              "      box-shadow: 0px 1px 2px rgba(60, 64, 67, 0.3), 0px 1px 3px 1px rgba(60, 64, 67, 0.15);\n",
              "      fill: #174EA6;\n",
              "    }\n",
              "\n",
              "    [theme=dark] .colab-df-convert {\n",
              "      background-color: #3B4455;\n",
              "      fill: #D2E3FC;\n",
              "    }\n",
              "\n",
              "    [theme=dark] .colab-df-convert:hover {\n",
              "      background-color: #434B5C;\n",
              "      box-shadow: 0px 1px 3px 1px rgba(0, 0, 0, 0.15);\n",
              "      filter: drop-shadow(0px 1px 2px rgba(0, 0, 0, 0.3));\n",
              "      fill: #FFFFFF;\n",
              "    }\n",
              "  </style>\n",
              "\n",
              "      <script>\n",
              "        const buttonEl =\n",
              "          document.querySelector('#df-9932b876-2edf-4d54-84b1-e963996fae38 button.colab-df-convert');\n",
              "        buttonEl.style.display =\n",
              "          google.colab.kernel.accessAllowed ? 'block' : 'none';\n",
              "\n",
              "        async function convertToInteractive(key) {\n",
              "          const element = document.querySelector('#df-9932b876-2edf-4d54-84b1-e963996fae38');\n",
              "          const dataTable =\n",
              "            await google.colab.kernel.invokeFunction('convertToInteractive',\n",
              "                                                     [key], {});\n",
              "          if (!dataTable) return;\n",
              "\n",
              "          const docLinkHtml = 'Like what you see? Visit the ' +\n",
              "            '<a target=\"_blank\" href=https://colab.research.google.com/notebooks/data_table.ipynb>data table notebook</a>'\n",
              "            + ' to learn more about interactive tables.';\n",
              "          element.innerHTML = '';\n",
              "          dataTable['output_type'] = 'display_data';\n",
              "          await google.colab.output.renderOutput(dataTable, element);\n",
              "          const docLink = document.createElement('div');\n",
              "          docLink.innerHTML = docLinkHtml;\n",
              "          element.appendChild(docLink);\n",
              "        }\n",
              "      </script>\n",
              "    </div>\n",
              "  </div>\n"
            ]
          },
          "metadata": {},
          "execution_count": 4
        }
      ]
    },
    {
      "cell_type": "markdown",
      "source": [
        "**(i)\tWhat is the most likely monetary outcome of the business venture?**"
      ],
      "metadata": {
        "id": "UcYX_v8GjEmv"
      }
    },
    {
      "cell_type": "code",
      "source": [
        "value=Data.loc[Data['p(x)']==0.3].iloc[0]['x']\n",
        "value"
      ],
      "metadata": {
        "colab": {
          "base_uri": "https://localhost:8080/"
        },
        "id": "WMbGepLtbcOe",
        "outputId": "5ef66142-34fa-472f-fda8-ecaf36d440e0"
      },
      "execution_count": 5,
      "outputs": [
        {
          "output_type": "execute_result",
          "data": {
            "text/plain": [
              "2000.0"
            ]
          },
          "metadata": {},
          "execution_count": 5
        }
      ]
    },
    {
      "cell_type": "markdown",
      "source": [
        "**(ii)\tIs the venture likely to be successful? Explain**"
      ],
      "metadata": {
        "id": "fOxVRIiujsOb"
      }
    },
    {
      "cell_type": "code",
      "source": [
        "x=[-2000,-1000,0,1000,2000,3000]\n",
        "p=[0.1,0.1,0.2,0.2,0.3,0.1]\n",
        "mean=sum(s*r for s,r in zip(x,p))\n",
        "mean\n",
        "if mean>0:\n",
        "  print('the venture is likely to be successful')\n",
        "else:\n",
        "  print('venture might not be successful')"
      ],
      "metadata": {
        "colab": {
          "base_uri": "https://localhost:8080/"
        },
        "id": "2LvFWT5ty3Mm",
        "outputId": "8bc52140-a7bd-4038-ccf7-2e248179866e"
      },
      "execution_count": 6,
      "outputs": [
        {
          "output_type": "stream",
          "name": "stdout",
          "text": [
            "the venture is likely to be successful\n"
          ]
        }
      ]
    },
    {
      "cell_type": "markdown",
      "source": [
        "**(iii)\tWhat is the long-term average earning of business ventures of this kind? Explain**"
      ],
      "metadata": {
        "id": "H8vPxeCOfpcb"
      }
    },
    {
      "cell_type": "code",
      "source": [
        "x=[-2000,-1000,0,1000,2000,3000]\n",
        "p=[0.1,0.1,0.2,0.2,0.3,0.1]\n",
        "mean=sum(s*r for s,r in zip(x,p))\n",
        "mean"
      ],
      "metadata": {
        "colab": {
          "base_uri": "https://localhost:8080/"
        },
        "id": "NxJgQguwftl3",
        "outputId": "7bdc6130-259a-406f-f4f2-f94884f17eba"
      },
      "execution_count": null,
      "outputs": [
        {
          "output_type": "execute_result",
          "data": {
            "text/plain": [
              "800.0"
            ]
          },
          "metadata": {},
          "execution_count": 12
        }
      ]
    },
    {
      "cell_type": "markdown",
      "source": [
        "**(iv)\tWhat is the good measure of the risk involved in a venture of this kind? Compute this measure**"
      ],
      "metadata": {
        "id": "aAH1u8bGf1tC"
      }
    },
    {
      "cell_type": "code",
      "source": [
        "total=sum((s**2)*r for s,r in zip(x,p))\n",
        "var=(total-(mean**2))\n",
        "print(var)\n",
        "print('std:',np.sqrt(var))"
      ],
      "metadata": {
        "colab": {
          "base_uri": "https://localhost:8080/"
        },
        "id": "yg8n-pt3jr3b",
        "outputId": "b37fba03-df9b-49ef-b5fa-aa7c02650356"
      },
      "execution_count": null,
      "outputs": [
        {
          "output_type": "stream",
          "name": "stdout",
          "text": [
            "2160000.0\n",
            "std: 1469.6938456699068\n"
          ]
        }
      ]
    },
    {
      "cell_type": "markdown",
      "source": [
        "Variance is very high. So, high risk is involved."
      ],
      "metadata": {
        "id": "HhsfdSbCk7_R"
      }
    }
  ]
}